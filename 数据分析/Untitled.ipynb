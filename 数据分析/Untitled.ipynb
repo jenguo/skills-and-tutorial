{
 "cells": [
  {
   "cell_type": "code",
   "execution_count": 3,
   "metadata": {},
   "outputs": [
    {
     "name": "stdout",
     "output_type": "stream",
     "text": [
      "[0 2]\n"
     ]
    }
   ],
   "source": [
    "import numpy as np\n",
    "\n",
    "def numpysum(n):\n",
    "    a = np.arange(n) ** 2\n",
    "    b = np.arange(n) ** 3\n",
    "    c = a + b\n",
    "    return c\n",
    "\n",
    "print(numpysum(2))"
   ]
  },
  {
   "cell_type": "code",
   "execution_count": 2,
   "metadata": {},
   "outputs": [],
   "source": [
    "import pandas  as pd\n",
    "from pandas import Series, DataFrame"
   ]
  },
  {
   "cell_type": "code",
   "execution_count": 4,
   "metadata": {},
   "outputs": [
    {
     "data": {
      "text/plain": [
       "0    4\n",
       "1    7\n",
       "2   -5\n",
       "3    3\n",
       "dtype: int64"
      ]
     },
     "execution_count": 4,
     "metadata": {},
     "output_type": "execute_result"
    }
   ],
   "source": [
    "obj = pd.Series([4,7,-5,3])\n",
    "obj"
   ]
  },
  {
   "cell_type": "code",
   "execution_count": 5,
   "metadata": {},
   "outputs": [
    {
     "data": {
      "text/plain": [
       "array([ 4,  7, -5,  3], dtype=int64)"
      ]
     },
     "execution_count": 5,
     "metadata": {},
     "output_type": "execute_result"
    }
   ],
   "source": [
    "obj.values"
   ]
  },
  {
   "cell_type": "code",
   "execution_count": 6,
   "metadata": {},
   "outputs": [
    {
     "data": {
      "text/plain": [
       "RangeIndex(start=0, stop=4, step=1)"
      ]
     },
     "execution_count": 6,
     "metadata": {},
     "output_type": "execute_result"
    }
   ],
   "source": [
    "obj.index"
   ]
  },
  {
   "cell_type": "code",
   "execution_count": 7,
   "metadata": {},
   "outputs": [
    {
     "data": {
      "text/plain": [
       "array([ 4,  7, -5,  3], dtype=int64)"
      ]
     },
     "execution_count": 7,
     "metadata": {},
     "output_type": "execute_result"
    }
   ],
   "source": [
    "obj2 = pd.Series([4,7,-5,3], index=['d', 'b', 'a', 'c'])\n",
    "obj2\n",
    "obj2.index\n",
    "obj2.values"
   ]
  },
  {
   "cell_type": "code",
   "execution_count": 8,
   "metadata": {},
   "outputs": [
    {
     "data": {
      "text/plain": [
       "-5"
      ]
     },
     "execution_count": 8,
     "metadata": {},
     "output_type": "execute_result"
    }
   ],
   "source": [
    "obj2['a']"
   ]
  },
  {
   "cell_type": "code",
   "execution_count": 9,
   "metadata": {},
   "outputs": [
    {
     "data": {
      "text/plain": [
       "d    4\n",
       "b    7\n",
       "c    3\n",
       "dtype: int64"
      ]
     },
     "execution_count": 9,
     "metadata": {},
     "output_type": "execute_result"
    }
   ],
   "source": [
    "obj2[obj2>0]"
   ]
  },
  {
   "cell_type": "code",
   "execution_count": 10,
   "metadata": {},
   "outputs": [
    {
     "data": {
      "text/html": [
       "<div>\n",
       "<style scoped>\n",
       "    .dataframe tbody tr th:only-of-type {\n",
       "        vertical-align: middle;\n",
       "    }\n",
       "\n",
       "    .dataframe tbody tr th {\n",
       "        vertical-align: top;\n",
       "    }\n",
       "\n",
       "    .dataframe thead th {\n",
       "        text-align: right;\n",
       "    }\n",
       "</style>\n",
       "<table border=\"1\" class=\"dataframe\">\n",
       "  <thead>\n",
       "    <tr style=\"text-align: right;\">\n",
       "      <th></th>\n",
       "      <th>state</th>\n",
       "      <th>year</th>\n",
       "      <th>pop</th>\n",
       "    </tr>\n",
       "  </thead>\n",
       "  <tbody>\n",
       "    <tr>\n",
       "      <th>0</th>\n",
       "      <td>Ohio</td>\n",
       "      <td>2000</td>\n",
       "      <td>1.5</td>\n",
       "    </tr>\n",
       "    <tr>\n",
       "      <th>1</th>\n",
       "      <td>Ohio</td>\n",
       "      <td>2001</td>\n",
       "      <td>1.7</td>\n",
       "    </tr>\n",
       "    <tr>\n",
       "      <th>2</th>\n",
       "      <td>Ohio</td>\n",
       "      <td>2002</td>\n",
       "      <td>3.6</td>\n",
       "    </tr>\n",
       "    <tr>\n",
       "      <th>3</th>\n",
       "      <td>Nevada</td>\n",
       "      <td>2001</td>\n",
       "      <td>2.4</td>\n",
       "    </tr>\n",
       "    <tr>\n",
       "      <th>4</th>\n",
       "      <td>Nevada</td>\n",
       "      <td>2002</td>\n",
       "      <td>2.9</td>\n",
       "    </tr>\n",
       "    <tr>\n",
       "      <th>5</th>\n",
       "      <td>Nevada</td>\n",
       "      <td>2003</td>\n",
       "      <td>3.2</td>\n",
       "    </tr>\n",
       "  </tbody>\n",
       "</table>\n",
       "</div>"
      ],
      "text/plain": [
       "    state  year  pop\n",
       "0    Ohio  2000  1.5\n",
       "1    Ohio  2001  1.7\n",
       "2    Ohio  2002  3.6\n",
       "3  Nevada  2001  2.4\n",
       "4  Nevada  2002  2.9\n",
       "5  Nevada  2003  3.2"
      ]
     },
     "execution_count": 10,
     "metadata": {},
     "output_type": "execute_result"
    }
   ],
   "source": [
    "data = {'state': ['Ohio', 'Ohio', 'Ohio', 'Nevada', 'Nevada', 'Nevada'],\n",
    "        'year': [2000, 2001, 2002, 2001, 2002, 2003],\n",
    "        'pop': [1.5, 1.7, 3.6, 2.4, 2.9, 3.2]}\n",
    "frame = DataFrame(data)\n",
    "frame"
   ]
  },
  {
   "cell_type": "code",
   "execution_count": 11,
   "metadata": {},
   "outputs": [
    {
     "data": {
      "text/html": [
       "<div>\n",
       "<style scoped>\n",
       "    .dataframe tbody tr th:only-of-type {\n",
       "        vertical-align: middle;\n",
       "    }\n",
       "\n",
       "    .dataframe tbody tr th {\n",
       "        vertical-align: top;\n",
       "    }\n",
       "\n",
       "    .dataframe thead th {\n",
       "        text-align: right;\n",
       "    }\n",
       "</style>\n",
       "<table border=\"1\" class=\"dataframe\">\n",
       "  <thead>\n",
       "    <tr style=\"text-align: right;\">\n",
       "      <th></th>\n",
       "      <th>state</th>\n",
       "      <th>year</th>\n",
       "      <th>pop</th>\n",
       "    </tr>\n",
       "  </thead>\n",
       "  <tbody>\n",
       "    <tr>\n",
       "      <th>0</th>\n",
       "      <td>Ohio</td>\n",
       "      <td>2000</td>\n",
       "      <td>1.5</td>\n",
       "    </tr>\n",
       "    <tr>\n",
       "      <th>1</th>\n",
       "      <td>Ohio</td>\n",
       "      <td>2001</td>\n",
       "      <td>1.7</td>\n",
       "    </tr>\n",
       "    <tr>\n",
       "      <th>2</th>\n",
       "      <td>Ohio</td>\n",
       "      <td>2002</td>\n",
       "      <td>3.6</td>\n",
       "    </tr>\n",
       "    <tr>\n",
       "      <th>3</th>\n",
       "      <td>Nevada</td>\n",
       "      <td>2001</td>\n",
       "      <td>2.4</td>\n",
       "    </tr>\n",
       "    <tr>\n",
       "      <th>4</th>\n",
       "      <td>Nevada</td>\n",
       "      <td>2002</td>\n",
       "      <td>2.9</td>\n",
       "    </tr>\n",
       "  </tbody>\n",
       "</table>\n",
       "</div>"
      ],
      "text/plain": [
       "    state  year  pop\n",
       "0    Ohio  2000  1.5\n",
       "1    Ohio  2001  1.7\n",
       "2    Ohio  2002  3.6\n",
       "3  Nevada  2001  2.4\n",
       "4  Nevada  2002  2.9"
      ]
     },
     "execution_count": 11,
     "metadata": {},
     "output_type": "execute_result"
    }
   ],
   "source": [
    "frame.head()"
   ]
  },
  {
   "cell_type": "code",
   "execution_count": 12,
   "metadata": {},
   "outputs": [
    {
     "data": {
      "text/html": [
       "<div>\n",
       "<style scoped>\n",
       "    .dataframe tbody tr th:only-of-type {\n",
       "        vertical-align: middle;\n",
       "    }\n",
       "\n",
       "    .dataframe tbody tr th {\n",
       "        vertical-align: top;\n",
       "    }\n",
       "\n",
       "    .dataframe thead th {\n",
       "        text-align: right;\n",
       "    }\n",
       "</style>\n",
       "<table border=\"1\" class=\"dataframe\">\n",
       "  <thead>\n",
       "    <tr style=\"text-align: right;\">\n",
       "      <th></th>\n",
       "      <th>year</th>\n",
       "      <th>state</th>\n",
       "      <th>pop</th>\n",
       "    </tr>\n",
       "  </thead>\n",
       "  <tbody>\n",
       "    <tr>\n",
       "      <th>0</th>\n",
       "      <td>2000</td>\n",
       "      <td>Ohio</td>\n",
       "      <td>1.5</td>\n",
       "    </tr>\n",
       "    <tr>\n",
       "      <th>1</th>\n",
       "      <td>2001</td>\n",
       "      <td>Ohio</td>\n",
       "      <td>1.7</td>\n",
       "    </tr>\n",
       "    <tr>\n",
       "      <th>2</th>\n",
       "      <td>2002</td>\n",
       "      <td>Ohio</td>\n",
       "      <td>3.6</td>\n",
       "    </tr>\n",
       "    <tr>\n",
       "      <th>3</th>\n",
       "      <td>2001</td>\n",
       "      <td>Nevada</td>\n",
       "      <td>2.4</td>\n",
       "    </tr>\n",
       "    <tr>\n",
       "      <th>4</th>\n",
       "      <td>2002</td>\n",
       "      <td>Nevada</td>\n",
       "      <td>2.9</td>\n",
       "    </tr>\n",
       "    <tr>\n",
       "      <th>5</th>\n",
       "      <td>2003</td>\n",
       "      <td>Nevada</td>\n",
       "      <td>3.2</td>\n",
       "    </tr>\n",
       "  </tbody>\n",
       "</table>\n",
       "</div>"
      ],
      "text/plain": [
       "   year   state  pop\n",
       "0  2000    Ohio  1.5\n",
       "1  2001    Ohio  1.7\n",
       "2  2002    Ohio  3.6\n",
       "3  2001  Nevada  2.4\n",
       "4  2002  Nevada  2.9\n",
       "5  2003  Nevada  3.2"
      ]
     },
     "execution_count": 12,
     "metadata": {},
     "output_type": "execute_result"
    }
   ],
   "source": [
    "pd.DataFrame(data, columns=['year', 'state', 'pop'])"
   ]
  },
  {
   "cell_type": "code",
   "execution_count": 15,
   "metadata": {},
   "outputs": [
    {
     "data": {
      "text/plain": [
       "Int64Index([0, 1, 2], dtype='int64')"
      ]
     },
     "execution_count": 15,
     "metadata": {},
     "output_type": "execute_result"
    }
   ],
   "source": [
    "labels = pd.Index(np.arange(3))\n",
    "labels"
   ]
  },
  {
   "cell_type": "code",
   "execution_count": 5,
   "metadata": {},
   "outputs": [
    {
     "data": {
      "text/plain": [
       "0     aardvark\n",
       "1    artichoke\n",
       "2          NaN\n",
       "3      avocado\n",
       "dtype: object"
      ]
     },
     "execution_count": 5,
     "metadata": {},
     "output_type": "execute_result"
    }
   ],
   "source": [
    "import pandas as pd\n",
    "string_data = pd.Series(['aardvark', 'artichoke', np.nan, 'avocado'])\n",
    "string_data"
   ]
  },
  {
   "cell_type": "code",
   "execution_count": 6,
   "metadata": {},
   "outputs": [],
   "source": [
    "string_data[0]=None"
   ]
  },
  {
   "cell_type": "code",
   "execution_count": 7,
   "metadata": {},
   "outputs": [
    {
     "data": {
      "text/plain": [
       "0         None\n",
       "1    artichoke\n",
       "2          NaN\n",
       "3      avocado\n",
       "dtype: object"
      ]
     },
     "execution_count": 7,
     "metadata": {},
     "output_type": "execute_result"
    }
   ],
   "source": [
    "string_data"
   ]
  },
  {
   "cell_type": "code",
   "execution_count": 8,
   "metadata": {},
   "outputs": [
    {
     "data": {
      "text/plain": [
       "0     True\n",
       "1    False\n",
       "2     True\n",
       "3    False\n",
       "dtype: bool"
      ]
     },
     "execution_count": 8,
     "metadata": {},
     "output_type": "execute_result"
    }
   ],
   "source": [
    "string_data.isnull()"
   ]
  },
  {
   "cell_type": "code",
   "execution_count": 9,
   "metadata": {},
   "outputs": [
    {
     "data": {
      "text/plain": [
       "0    1.0\n",
       "1    NaN\n",
       "2    3.5\n",
       "3    NaN\n",
       "4    7.0\n",
       "dtype: float64"
      ]
     },
     "execution_count": 9,
     "metadata": {},
     "output_type": "execute_result"
    }
   ],
   "source": [
    "from numpy import nan as NA\n",
    "data = pd.Series([1, NA, 3.5, NA, 7])\n",
    "data"
   ]
  },
  {
   "cell_type": "code",
   "execution_count": 10,
   "metadata": {},
   "outputs": [
    {
     "data": {
      "text/plain": [
       "0    1.0\n",
       "2    3.5\n",
       "4    7.0\n",
       "dtype: float64"
      ]
     },
     "execution_count": 10,
     "metadata": {},
     "output_type": "execute_result"
    }
   ],
   "source": [
    "data.dropna()"
   ]
  },
  {
   "cell_type": "code",
   "execution_count": 11,
   "metadata": {},
   "outputs": [
    {
     "data": {
      "text/html": [
       "<div>\n",
       "<style scoped>\n",
       "    .dataframe tbody tr th:only-of-type {\n",
       "        vertical-align: middle;\n",
       "    }\n",
       "\n",
       "    .dataframe tbody tr th {\n",
       "        vertical-align: top;\n",
       "    }\n",
       "\n",
       "    .dataframe thead th {\n",
       "        text-align: right;\n",
       "    }\n",
       "</style>\n",
       "<table border=\"1\" class=\"dataframe\">\n",
       "  <thead>\n",
       "    <tr style=\"text-align: right;\">\n",
       "      <th></th>\n",
       "      <th>0</th>\n",
       "      <th>1</th>\n",
       "      <th>2</th>\n",
       "    </tr>\n",
       "  </thead>\n",
       "  <tbody>\n",
       "    <tr>\n",
       "      <th>0</th>\n",
       "      <td>1.0</td>\n",
       "      <td>6.5</td>\n",
       "      <td>3.0</td>\n",
       "    </tr>\n",
       "    <tr>\n",
       "      <th>1</th>\n",
       "      <td>1.0</td>\n",
       "      <td>NaN</td>\n",
       "      <td>NaN</td>\n",
       "    </tr>\n",
       "    <tr>\n",
       "      <th>2</th>\n",
       "      <td>NaN</td>\n",
       "      <td>NaN</td>\n",
       "      <td>NaN</td>\n",
       "    </tr>\n",
       "    <tr>\n",
       "      <th>3</th>\n",
       "      <td>NaN</td>\n",
       "      <td>6.5</td>\n",
       "      <td>3.0</td>\n",
       "    </tr>\n",
       "  </tbody>\n",
       "</table>\n",
       "</div>"
      ],
      "text/plain": [
       "     0    1    2\n",
       "0  1.0  6.5  3.0\n",
       "1  1.0  NaN  NaN\n",
       "2  NaN  NaN  NaN\n",
       "3  NaN  6.5  3.0"
      ]
     },
     "execution_count": 11,
     "metadata": {},
     "output_type": "execute_result"
    }
   ],
   "source": [
    "data = pd.DataFrame([[1., 6.5, 3.], [1., NA, NA],\n",
    "              [NA, NA, NA], [NA, 6.5, 3.]])\n",
    "data"
   ]
  },
  {
   "cell_type": "code",
   "execution_count": 12,
   "metadata": {},
   "outputs": [
    {
     "data": {
      "text/html": [
       "<div>\n",
       "<style scoped>\n",
       "    .dataframe tbody tr th:only-of-type {\n",
       "        vertical-align: middle;\n",
       "    }\n",
       "\n",
       "    .dataframe tbody tr th {\n",
       "        vertical-align: top;\n",
       "    }\n",
       "\n",
       "    .dataframe thead th {\n",
       "        text-align: right;\n",
       "    }\n",
       "</style>\n",
       "<table border=\"1\" class=\"dataframe\">\n",
       "  <thead>\n",
       "    <tr style=\"text-align: right;\">\n",
       "      <th></th>\n",
       "      <th>0</th>\n",
       "      <th>1</th>\n",
       "      <th>2</th>\n",
       "    </tr>\n",
       "  </thead>\n",
       "  <tbody>\n",
       "    <tr>\n",
       "      <th>0</th>\n",
       "      <td>1.0</td>\n",
       "      <td>6.5</td>\n",
       "      <td>3.0</td>\n",
       "    </tr>\n",
       "  </tbody>\n",
       "</table>\n",
       "</div>"
      ],
      "text/plain": [
       "     0    1    2\n",
       "0  1.0  6.5  3.0"
      ]
     },
     "execution_count": 12,
     "metadata": {},
     "output_type": "execute_result"
    }
   ],
   "source": [
    "cleaned = data.dropna()\n",
    "cleaned"
   ]
  },
  {
   "cell_type": "code",
   "execution_count": 13,
   "metadata": {},
   "outputs": [
    {
     "data": {
      "text/html": [
       "<div>\n",
       "<style scoped>\n",
       "    .dataframe tbody tr th:only-of-type {\n",
       "        vertical-align: middle;\n",
       "    }\n",
       "\n",
       "    .dataframe tbody tr th {\n",
       "        vertical-align: top;\n",
       "    }\n",
       "\n",
       "    .dataframe thead th {\n",
       "        text-align: right;\n",
       "    }\n",
       "</style>\n",
       "<table border=\"1\" class=\"dataframe\">\n",
       "  <thead>\n",
       "    <tr style=\"text-align: right;\">\n",
       "      <th></th>\n",
       "      <th>0</th>\n",
       "      <th>1</th>\n",
       "      <th>2</th>\n",
       "    </tr>\n",
       "  </thead>\n",
       "  <tbody>\n",
       "    <tr>\n",
       "      <th>0</th>\n",
       "      <td>1.0</td>\n",
       "      <td>6.5</td>\n",
       "      <td>3.0</td>\n",
       "    </tr>\n",
       "    <tr>\n",
       "      <th>1</th>\n",
       "      <td>1.0</td>\n",
       "      <td>NaN</td>\n",
       "      <td>NaN</td>\n",
       "    </tr>\n",
       "    <tr>\n",
       "      <th>3</th>\n",
       "      <td>NaN</td>\n",
       "      <td>6.5</td>\n",
       "      <td>3.0</td>\n",
       "    </tr>\n",
       "  </tbody>\n",
       "</table>\n",
       "</div>"
      ],
      "text/plain": [
       "     0    1    2\n",
       "0  1.0  6.5  3.0\n",
       "1  1.0  NaN  NaN\n",
       "3  NaN  6.5  3.0"
      ]
     },
     "execution_count": 13,
     "metadata": {},
     "output_type": "execute_result"
    }
   ],
   "source": [
    "data.dropna(how='all')"
   ]
  },
  {
   "cell_type": "code",
   "execution_count": 14,
   "metadata": {},
   "outputs": [
    {
     "data": {
      "text/html": [
       "<div>\n",
       "<style scoped>\n",
       "    .dataframe tbody tr th:only-of-type {\n",
       "        vertical-align: middle;\n",
       "    }\n",
       "\n",
       "    .dataframe tbody tr th {\n",
       "        vertical-align: top;\n",
       "    }\n",
       "\n",
       "    .dataframe thead th {\n",
       "        text-align: right;\n",
       "    }\n",
       "</style>\n",
       "<table border=\"1\" class=\"dataframe\">\n",
       "  <thead>\n",
       "    <tr style=\"text-align: right;\">\n",
       "      <th></th>\n",
       "      <th>0</th>\n",
       "      <th>1</th>\n",
       "      <th>2</th>\n",
       "    </tr>\n",
       "  </thead>\n",
       "  <tbody>\n",
       "    <tr>\n",
       "      <th>0</th>\n",
       "      <td>1.0</td>\n",
       "      <td>6.5</td>\n",
       "      <td>3.0</td>\n",
       "    </tr>\n",
       "    <tr>\n",
       "      <th>1</th>\n",
       "      <td>1.0</td>\n",
       "      <td>NaN</td>\n",
       "      <td>NaN</td>\n",
       "    </tr>\n",
       "    <tr>\n",
       "      <th>2</th>\n",
       "      <td>NaN</td>\n",
       "      <td>NaN</td>\n",
       "      <td>NaN</td>\n",
       "    </tr>\n",
       "    <tr>\n",
       "      <th>3</th>\n",
       "      <td>NaN</td>\n",
       "      <td>6.5</td>\n",
       "      <td>3.0</td>\n",
       "    </tr>\n",
       "  </tbody>\n",
       "</table>\n",
       "</div>"
      ],
      "text/plain": [
       "     0    1    2\n",
       "0  1.0  6.5  3.0\n",
       "1  1.0  NaN  NaN\n",
       "2  NaN  NaN  NaN\n",
       "3  NaN  6.5  3.0"
      ]
     },
     "execution_count": 14,
     "metadata": {},
     "output_type": "execute_result"
    }
   ],
   "source": [
    "data"
   ]
  },
  {
   "cell_type": "code",
   "execution_count": 15,
   "metadata": {},
   "outputs": [],
   "source": [
    "data[4] = NA"
   ]
  },
  {
   "cell_type": "code",
   "execution_count": 16,
   "metadata": {},
   "outputs": [
    {
     "data": {
      "text/html": [
       "<div>\n",
       "<style scoped>\n",
       "    .dataframe tbody tr th:only-of-type {\n",
       "        vertical-align: middle;\n",
       "    }\n",
       "\n",
       "    .dataframe tbody tr th {\n",
       "        vertical-align: top;\n",
       "    }\n",
       "\n",
       "    .dataframe thead th {\n",
       "        text-align: right;\n",
       "    }\n",
       "</style>\n",
       "<table border=\"1\" class=\"dataframe\">\n",
       "  <thead>\n",
       "    <tr style=\"text-align: right;\">\n",
       "      <th></th>\n",
       "      <th>0</th>\n",
       "      <th>1</th>\n",
       "      <th>2</th>\n",
       "      <th>4</th>\n",
       "    </tr>\n",
       "  </thead>\n",
       "  <tbody>\n",
       "    <tr>\n",
       "      <th>0</th>\n",
       "      <td>1.0</td>\n",
       "      <td>6.5</td>\n",
       "      <td>3.0</td>\n",
       "      <td>NaN</td>\n",
       "    </tr>\n",
       "    <tr>\n",
       "      <th>1</th>\n",
       "      <td>1.0</td>\n",
       "      <td>NaN</td>\n",
       "      <td>NaN</td>\n",
       "      <td>NaN</td>\n",
       "    </tr>\n",
       "    <tr>\n",
       "      <th>2</th>\n",
       "      <td>NaN</td>\n",
       "      <td>NaN</td>\n",
       "      <td>NaN</td>\n",
       "      <td>NaN</td>\n",
       "    </tr>\n",
       "    <tr>\n",
       "      <th>3</th>\n",
       "      <td>NaN</td>\n",
       "      <td>6.5</td>\n",
       "      <td>3.0</td>\n",
       "      <td>NaN</td>\n",
       "    </tr>\n",
       "  </tbody>\n",
       "</table>\n",
       "</div>"
      ],
      "text/plain": [
       "     0    1    2   4\n",
       "0  1.0  6.5  3.0 NaN\n",
       "1  1.0  NaN  NaN NaN\n",
       "2  NaN  NaN  NaN NaN\n",
       "3  NaN  6.5  3.0 NaN"
      ]
     },
     "execution_count": 16,
     "metadata": {},
     "output_type": "execute_result"
    }
   ],
   "source": [
    "data"
   ]
  },
  {
   "cell_type": "code",
   "execution_count": 17,
   "metadata": {},
   "outputs": [
    {
     "data": {
      "text/html": [
       "<div>\n",
       "<style scoped>\n",
       "    .dataframe tbody tr th:only-of-type {\n",
       "        vertical-align: middle;\n",
       "    }\n",
       "\n",
       "    .dataframe tbody tr th {\n",
       "        vertical-align: top;\n",
       "    }\n",
       "\n",
       "    .dataframe thead th {\n",
       "        text-align: right;\n",
       "    }\n",
       "</style>\n",
       "<table border=\"1\" class=\"dataframe\">\n",
       "  <thead>\n",
       "    <tr style=\"text-align: right;\">\n",
       "      <th></th>\n",
       "      <th>0</th>\n",
       "      <th>1</th>\n",
       "      <th>2</th>\n",
       "    </tr>\n",
       "  </thead>\n",
       "  <tbody>\n",
       "    <tr>\n",
       "      <th>0</th>\n",
       "      <td>1.0</td>\n",
       "      <td>6.5</td>\n",
       "      <td>3.0</td>\n",
       "    </tr>\n",
       "    <tr>\n",
       "      <th>1</th>\n",
       "      <td>1.0</td>\n",
       "      <td>NaN</td>\n",
       "      <td>NaN</td>\n",
       "    </tr>\n",
       "    <tr>\n",
       "      <th>2</th>\n",
       "      <td>NaN</td>\n",
       "      <td>NaN</td>\n",
       "      <td>NaN</td>\n",
       "    </tr>\n",
       "    <tr>\n",
       "      <th>3</th>\n",
       "      <td>NaN</td>\n",
       "      <td>6.5</td>\n",
       "      <td>3.0</td>\n",
       "    </tr>\n",
       "  </tbody>\n",
       "</table>\n",
       "</div>"
      ],
      "text/plain": [
       "     0    1    2\n",
       "0  1.0  6.5  3.0\n",
       "1  1.0  NaN  NaN\n",
       "2  NaN  NaN  NaN\n",
       "3  NaN  6.5  3.0"
      ]
     },
     "execution_count": 17,
     "metadata": {},
     "output_type": "execute_result"
    }
   ],
   "source": [
    "data.dropna(axis=1, how='all')"
   ]
  },
  {
   "cell_type": "code",
   "execution_count": 18,
   "metadata": {},
   "outputs": [],
   "source": [
    "df = pd.DataFrame(np.random.randn(7, 3))"
   ]
  },
  {
   "cell_type": "code",
   "execution_count": 19,
   "metadata": {},
   "outputs": [
    {
     "data": {
      "text/html": [
       "<div>\n",
       "<style scoped>\n",
       "    .dataframe tbody tr th:only-of-type {\n",
       "        vertical-align: middle;\n",
       "    }\n",
       "\n",
       "    .dataframe tbody tr th {\n",
       "        vertical-align: top;\n",
       "    }\n",
       "\n",
       "    .dataframe thead th {\n",
       "        text-align: right;\n",
       "    }\n",
       "</style>\n",
       "<table border=\"1\" class=\"dataframe\">\n",
       "  <thead>\n",
       "    <tr style=\"text-align: right;\">\n",
       "      <th></th>\n",
       "      <th>0</th>\n",
       "      <th>1</th>\n",
       "      <th>2</th>\n",
       "    </tr>\n",
       "  </thead>\n",
       "  <tbody>\n",
       "    <tr>\n",
       "      <th>0</th>\n",
       "      <td>-0.733762</td>\n",
       "      <td>1.633531</td>\n",
       "      <td>2.536959</td>\n",
       "    </tr>\n",
       "    <tr>\n",
       "      <th>1</th>\n",
       "      <td>-1.483933</td>\n",
       "      <td>0.673927</td>\n",
       "      <td>-1.261877</td>\n",
       "    </tr>\n",
       "    <tr>\n",
       "      <th>2</th>\n",
       "      <td>0.390734</td>\n",
       "      <td>-0.764673</td>\n",
       "      <td>0.517024</td>\n",
       "    </tr>\n",
       "    <tr>\n",
       "      <th>3</th>\n",
       "      <td>0.595559</td>\n",
       "      <td>0.562193</td>\n",
       "      <td>0.962359</td>\n",
       "    </tr>\n",
       "    <tr>\n",
       "      <th>4</th>\n",
       "      <td>0.273106</td>\n",
       "      <td>0.550762</td>\n",
       "      <td>-0.145859</td>\n",
       "    </tr>\n",
       "    <tr>\n",
       "      <th>5</th>\n",
       "      <td>0.767378</td>\n",
       "      <td>-0.066348</td>\n",
       "      <td>0.392528</td>\n",
       "    </tr>\n",
       "    <tr>\n",
       "      <th>6</th>\n",
       "      <td>0.233531</td>\n",
       "      <td>1.388220</td>\n",
       "      <td>1.204202</td>\n",
       "    </tr>\n",
       "  </tbody>\n",
       "</table>\n",
       "</div>"
      ],
      "text/plain": [
       "          0         1         2\n",
       "0 -0.733762  1.633531  2.536959\n",
       "1 -1.483933  0.673927 -1.261877\n",
       "2  0.390734 -0.764673  0.517024\n",
       "3  0.595559  0.562193  0.962359\n",
       "4  0.273106  0.550762 -0.145859\n",
       "5  0.767378 -0.066348  0.392528\n",
       "6  0.233531  1.388220  1.204202"
      ]
     },
     "execution_count": 19,
     "metadata": {},
     "output_type": "execute_result"
    }
   ],
   "source": [
    "df "
   ]
  },
  {
   "cell_type": "code",
   "execution_count": 20,
   "metadata": {},
   "outputs": [
    {
     "data": {
      "text/html": [
       "<div>\n",
       "<style scoped>\n",
       "    .dataframe tbody tr th:only-of-type {\n",
       "        vertical-align: middle;\n",
       "    }\n",
       "\n",
       "    .dataframe tbody tr th {\n",
       "        vertical-align: top;\n",
       "    }\n",
       "\n",
       "    .dataframe thead th {\n",
       "        text-align: right;\n",
       "    }\n",
       "</style>\n",
       "<table border=\"1\" class=\"dataframe\">\n",
       "  <thead>\n",
       "    <tr style=\"text-align: right;\">\n",
       "      <th></th>\n",
       "      <th>0</th>\n",
       "      <th>1</th>\n",
       "      <th>2</th>\n",
       "    </tr>\n",
       "  </thead>\n",
       "  <tbody>\n",
       "    <tr>\n",
       "      <th>0</th>\n",
       "      <td>-0.733762</td>\n",
       "      <td>NaN</td>\n",
       "      <td>2.536959</td>\n",
       "    </tr>\n",
       "    <tr>\n",
       "      <th>1</th>\n",
       "      <td>-1.483933</td>\n",
       "      <td>NaN</td>\n",
       "      <td>-1.261877</td>\n",
       "    </tr>\n",
       "    <tr>\n",
       "      <th>2</th>\n",
       "      <td>0.390734</td>\n",
       "      <td>NaN</td>\n",
       "      <td>0.517024</td>\n",
       "    </tr>\n",
       "    <tr>\n",
       "      <th>3</th>\n",
       "      <td>0.595559</td>\n",
       "      <td>NaN</td>\n",
       "      <td>0.962359</td>\n",
       "    </tr>\n",
       "    <tr>\n",
       "      <th>4</th>\n",
       "      <td>0.273106</td>\n",
       "      <td>0.550762</td>\n",
       "      <td>-0.145859</td>\n",
       "    </tr>\n",
       "    <tr>\n",
       "      <th>5</th>\n",
       "      <td>0.767378</td>\n",
       "      <td>-0.066348</td>\n",
       "      <td>0.392528</td>\n",
       "    </tr>\n",
       "    <tr>\n",
       "      <th>6</th>\n",
       "      <td>0.233531</td>\n",
       "      <td>1.388220</td>\n",
       "      <td>1.204202</td>\n",
       "    </tr>\n",
       "  </tbody>\n",
       "</table>\n",
       "</div>"
      ],
      "text/plain": [
       "          0         1         2\n",
       "0 -0.733762       NaN  2.536959\n",
       "1 -1.483933       NaN -1.261877\n",
       "2  0.390734       NaN  0.517024\n",
       "3  0.595559       NaN  0.962359\n",
       "4  0.273106  0.550762 -0.145859\n",
       "5  0.767378 -0.066348  0.392528\n",
       "6  0.233531  1.388220  1.204202"
      ]
     },
     "execution_count": 20,
     "metadata": {},
     "output_type": "execute_result"
    }
   ],
   "source": [
    "df.iloc[:4, 1] = NA\n",
    "df"
   ]
  },
  {
   "cell_type": "code",
   "execution_count": 21,
   "metadata": {},
   "outputs": [
    {
     "data": {
      "text/html": [
       "<div>\n",
       "<style scoped>\n",
       "    .dataframe tbody tr th:only-of-type {\n",
       "        vertical-align: middle;\n",
       "    }\n",
       "\n",
       "    .dataframe tbody tr th {\n",
       "        vertical-align: top;\n",
       "    }\n",
       "\n",
       "    .dataframe thead th {\n",
       "        text-align: right;\n",
       "    }\n",
       "</style>\n",
       "<table border=\"1\" class=\"dataframe\">\n",
       "  <thead>\n",
       "    <tr style=\"text-align: right;\">\n",
       "      <th></th>\n",
       "      <th>0</th>\n",
       "      <th>1</th>\n",
       "      <th>2</th>\n",
       "    </tr>\n",
       "  </thead>\n",
       "  <tbody>\n",
       "    <tr>\n",
       "      <th>0</th>\n",
       "      <td>-0.733762</td>\n",
       "      <td>NaN</td>\n",
       "      <td>NaN</td>\n",
       "    </tr>\n",
       "    <tr>\n",
       "      <th>1</th>\n",
       "      <td>-1.483933</td>\n",
       "      <td>NaN</td>\n",
       "      <td>NaN</td>\n",
       "    </tr>\n",
       "    <tr>\n",
       "      <th>2</th>\n",
       "      <td>0.390734</td>\n",
       "      <td>NaN</td>\n",
       "      <td>0.517024</td>\n",
       "    </tr>\n",
       "    <tr>\n",
       "      <th>3</th>\n",
       "      <td>0.595559</td>\n",
       "      <td>NaN</td>\n",
       "      <td>0.962359</td>\n",
       "    </tr>\n",
       "    <tr>\n",
       "      <th>4</th>\n",
       "      <td>0.273106</td>\n",
       "      <td>0.550762</td>\n",
       "      <td>-0.145859</td>\n",
       "    </tr>\n",
       "    <tr>\n",
       "      <th>5</th>\n",
       "      <td>0.767378</td>\n",
       "      <td>-0.066348</td>\n",
       "      <td>0.392528</td>\n",
       "    </tr>\n",
       "    <tr>\n",
       "      <th>6</th>\n",
       "      <td>0.233531</td>\n",
       "      <td>1.388220</td>\n",
       "      <td>1.204202</td>\n",
       "    </tr>\n",
       "  </tbody>\n",
       "</table>\n",
       "</div>"
      ],
      "text/plain": [
       "          0         1         2\n",
       "0 -0.733762       NaN       NaN\n",
       "1 -1.483933       NaN       NaN\n",
       "2  0.390734       NaN  0.517024\n",
       "3  0.595559       NaN  0.962359\n",
       "4  0.273106  0.550762 -0.145859\n",
       "5  0.767378 -0.066348  0.392528\n",
       "6  0.233531  1.388220  1.204202"
      ]
     },
     "execution_count": 21,
     "metadata": {},
     "output_type": "execute_result"
    }
   ],
   "source": [
    "df.iloc[:2, 2] = NA\n",
    "df"
   ]
  },
  {
   "cell_type": "code",
   "execution_count": 22,
   "metadata": {},
   "outputs": [
    {
     "data": {
      "text/html": [
       "<div>\n",
       "<style scoped>\n",
       "    .dataframe tbody tr th:only-of-type {\n",
       "        vertical-align: middle;\n",
       "    }\n",
       "\n",
       "    .dataframe tbody tr th {\n",
       "        vertical-align: top;\n",
       "    }\n",
       "\n",
       "    .dataframe thead th {\n",
       "        text-align: right;\n",
       "    }\n",
       "</style>\n",
       "<table border=\"1\" class=\"dataframe\">\n",
       "  <thead>\n",
       "    <tr style=\"text-align: right;\">\n",
       "      <th></th>\n",
       "      <th>0</th>\n",
       "      <th>1</th>\n",
       "      <th>2</th>\n",
       "    </tr>\n",
       "  </thead>\n",
       "  <tbody>\n",
       "    <tr>\n",
       "      <th>4</th>\n",
       "      <td>0.273106</td>\n",
       "      <td>0.550762</td>\n",
       "      <td>-0.145859</td>\n",
       "    </tr>\n",
       "    <tr>\n",
       "      <th>5</th>\n",
       "      <td>0.767378</td>\n",
       "      <td>-0.066348</td>\n",
       "      <td>0.392528</td>\n",
       "    </tr>\n",
       "    <tr>\n",
       "      <th>6</th>\n",
       "      <td>0.233531</td>\n",
       "      <td>1.388220</td>\n",
       "      <td>1.204202</td>\n",
       "    </tr>\n",
       "  </tbody>\n",
       "</table>\n",
       "</div>"
      ],
      "text/plain": [
       "          0         1         2\n",
       "4  0.273106  0.550762 -0.145859\n",
       "5  0.767378 -0.066348  0.392528\n",
       "6  0.233531  1.388220  1.204202"
      ]
     },
     "execution_count": 22,
     "metadata": {},
     "output_type": "execute_result"
    }
   ],
   "source": [
    "df.dropna()"
   ]
  },
  {
   "cell_type": "code",
   "execution_count": 23,
   "metadata": {},
   "outputs": [
    {
     "data": {
      "text/html": [
       "<div>\n",
       "<style scoped>\n",
       "    .dataframe tbody tr th:only-of-type {\n",
       "        vertical-align: middle;\n",
       "    }\n",
       "\n",
       "    .dataframe tbody tr th {\n",
       "        vertical-align: top;\n",
       "    }\n",
       "\n",
       "    .dataframe thead th {\n",
       "        text-align: right;\n",
       "    }\n",
       "</style>\n",
       "<table border=\"1\" class=\"dataframe\">\n",
       "  <thead>\n",
       "    <tr style=\"text-align: right;\">\n",
       "      <th></th>\n",
       "      <th>0</th>\n",
       "      <th>1</th>\n",
       "      <th>2</th>\n",
       "    </tr>\n",
       "  </thead>\n",
       "  <tbody>\n",
       "    <tr>\n",
       "      <th>2</th>\n",
       "      <td>0.390734</td>\n",
       "      <td>NaN</td>\n",
       "      <td>0.517024</td>\n",
       "    </tr>\n",
       "    <tr>\n",
       "      <th>3</th>\n",
       "      <td>0.595559</td>\n",
       "      <td>NaN</td>\n",
       "      <td>0.962359</td>\n",
       "    </tr>\n",
       "    <tr>\n",
       "      <th>4</th>\n",
       "      <td>0.273106</td>\n",
       "      <td>0.550762</td>\n",
       "      <td>-0.145859</td>\n",
       "    </tr>\n",
       "    <tr>\n",
       "      <th>5</th>\n",
       "      <td>0.767378</td>\n",
       "      <td>-0.066348</td>\n",
       "      <td>0.392528</td>\n",
       "    </tr>\n",
       "    <tr>\n",
       "      <th>6</th>\n",
       "      <td>0.233531</td>\n",
       "      <td>1.388220</td>\n",
       "      <td>1.204202</td>\n",
       "    </tr>\n",
       "  </tbody>\n",
       "</table>\n",
       "</div>"
      ],
      "text/plain": [
       "          0         1         2\n",
       "2  0.390734       NaN  0.517024\n",
       "3  0.595559       NaN  0.962359\n",
       "4  0.273106  0.550762 -0.145859\n",
       "5  0.767378 -0.066348  0.392528\n",
       "6  0.233531  1.388220  1.204202"
      ]
     },
     "execution_count": 23,
     "metadata": {},
     "output_type": "execute_result"
    }
   ],
   "source": [
    "df.dropna(thresh=2)"
   ]
  },
  {
   "cell_type": "code",
   "execution_count": 24,
   "metadata": {},
   "outputs": [
    {
     "data": {
      "text/html": [
       "<div>\n",
       "<style scoped>\n",
       "    .dataframe tbody tr th:only-of-type {\n",
       "        vertical-align: middle;\n",
       "    }\n",
       "\n",
       "    .dataframe tbody tr th {\n",
       "        vertical-align: top;\n",
       "    }\n",
       "\n",
       "    .dataframe thead th {\n",
       "        text-align: right;\n",
       "    }\n",
       "</style>\n",
       "<table border=\"1\" class=\"dataframe\">\n",
       "  <thead>\n",
       "    <tr style=\"text-align: right;\">\n",
       "      <th></th>\n",
       "      <th>0</th>\n",
       "      <th>1</th>\n",
       "      <th>2</th>\n",
       "    </tr>\n",
       "  </thead>\n",
       "  <tbody>\n",
       "    <tr>\n",
       "      <th>0</th>\n",
       "      <td>-0.733762</td>\n",
       "      <td>0.000000</td>\n",
       "      <td>0.000000</td>\n",
       "    </tr>\n",
       "    <tr>\n",
       "      <th>1</th>\n",
       "      <td>-1.483933</td>\n",
       "      <td>0.000000</td>\n",
       "      <td>0.000000</td>\n",
       "    </tr>\n",
       "    <tr>\n",
       "      <th>2</th>\n",
       "      <td>0.390734</td>\n",
       "      <td>0.000000</td>\n",
       "      <td>0.517024</td>\n",
       "    </tr>\n",
       "    <tr>\n",
       "      <th>3</th>\n",
       "      <td>0.595559</td>\n",
       "      <td>0.000000</td>\n",
       "      <td>0.962359</td>\n",
       "    </tr>\n",
       "    <tr>\n",
       "      <th>4</th>\n",
       "      <td>0.273106</td>\n",
       "      <td>0.550762</td>\n",
       "      <td>-0.145859</td>\n",
       "    </tr>\n",
       "    <tr>\n",
       "      <th>5</th>\n",
       "      <td>0.767378</td>\n",
       "      <td>-0.066348</td>\n",
       "      <td>0.392528</td>\n",
       "    </tr>\n",
       "    <tr>\n",
       "      <th>6</th>\n",
       "      <td>0.233531</td>\n",
       "      <td>1.388220</td>\n",
       "      <td>1.204202</td>\n",
       "    </tr>\n",
       "  </tbody>\n",
       "</table>\n",
       "</div>"
      ],
      "text/plain": [
       "          0         1         2\n",
       "0 -0.733762  0.000000  0.000000\n",
       "1 -1.483933  0.000000  0.000000\n",
       "2  0.390734  0.000000  0.517024\n",
       "3  0.595559  0.000000  0.962359\n",
       "4  0.273106  0.550762 -0.145859\n",
       "5  0.767378 -0.066348  0.392528\n",
       "6  0.233531  1.388220  1.204202"
      ]
     },
     "execution_count": 24,
     "metadata": {},
     "output_type": "execute_result"
    }
   ],
   "source": [
    "df.fillna(0)"
   ]
  },
  {
   "cell_type": "code",
   "execution_count": 25,
   "metadata": {},
   "outputs": [
    {
     "data": {
      "text/html": [
       "<div>\n",
       "<style scoped>\n",
       "    .dataframe tbody tr th:only-of-type {\n",
       "        vertical-align: middle;\n",
       "    }\n",
       "\n",
       "    .dataframe tbody tr th {\n",
       "        vertical-align: top;\n",
       "    }\n",
       "\n",
       "    .dataframe thead th {\n",
       "        text-align: right;\n",
       "    }\n",
       "</style>\n",
       "<table border=\"1\" class=\"dataframe\">\n",
       "  <thead>\n",
       "    <tr style=\"text-align: right;\">\n",
       "      <th></th>\n",
       "      <th>0</th>\n",
       "      <th>1</th>\n",
       "      <th>2</th>\n",
       "    </tr>\n",
       "  </thead>\n",
       "  <tbody>\n",
       "    <tr>\n",
       "      <th>0</th>\n",
       "      <td>-0.733762</td>\n",
       "      <td>NaN</td>\n",
       "      <td>NaN</td>\n",
       "    </tr>\n",
       "    <tr>\n",
       "      <th>1</th>\n",
       "      <td>-1.483933</td>\n",
       "      <td>NaN</td>\n",
       "      <td>NaN</td>\n",
       "    </tr>\n",
       "    <tr>\n",
       "      <th>2</th>\n",
       "      <td>0.390734</td>\n",
       "      <td>NaN</td>\n",
       "      <td>0.517024</td>\n",
       "    </tr>\n",
       "    <tr>\n",
       "      <th>3</th>\n",
       "      <td>0.595559</td>\n",
       "      <td>NaN</td>\n",
       "      <td>0.962359</td>\n",
       "    </tr>\n",
       "    <tr>\n",
       "      <th>4</th>\n",
       "      <td>0.273106</td>\n",
       "      <td>0.550762</td>\n",
       "      <td>-0.145859</td>\n",
       "    </tr>\n",
       "    <tr>\n",
       "      <th>5</th>\n",
       "      <td>0.767378</td>\n",
       "      <td>-0.066348</td>\n",
       "      <td>0.392528</td>\n",
       "    </tr>\n",
       "    <tr>\n",
       "      <th>6</th>\n",
       "      <td>0.233531</td>\n",
       "      <td>1.388220</td>\n",
       "      <td>1.204202</td>\n",
       "    </tr>\n",
       "  </tbody>\n",
       "</table>\n",
       "</div>"
      ],
      "text/plain": [
       "          0         1         2\n",
       "0 -0.733762       NaN       NaN\n",
       "1 -1.483933       NaN       NaN\n",
       "2  0.390734       NaN  0.517024\n",
       "3  0.595559       NaN  0.962359\n",
       "4  0.273106  0.550762 -0.145859\n",
       "5  0.767378 -0.066348  0.392528\n",
       "6  0.233531  1.388220  1.204202"
      ]
     },
     "execution_count": 25,
     "metadata": {},
     "output_type": "execute_result"
    }
   ],
   "source": [
    "df.fillna({1: 0.5, 2: 0})\n",
    "df"
   ]
  },
  {
   "cell_type": "code",
   "execution_count": 26,
   "metadata": {},
   "outputs": [
    {
     "data": {
      "text/html": [
       "<div>\n",
       "<style scoped>\n",
       "    .dataframe tbody tr th:only-of-type {\n",
       "        vertical-align: middle;\n",
       "    }\n",
       "\n",
       "    .dataframe tbody tr th {\n",
       "        vertical-align: top;\n",
       "    }\n",
       "\n",
       "    .dataframe thead th {\n",
       "        text-align: right;\n",
       "    }\n",
       "</style>\n",
       "<table border=\"1\" class=\"dataframe\">\n",
       "  <thead>\n",
       "    <tr style=\"text-align: right;\">\n",
       "      <th></th>\n",
       "      <th>food</th>\n",
       "      <th>ounces</th>\n",
       "    </tr>\n",
       "  </thead>\n",
       "  <tbody>\n",
       "    <tr>\n",
       "      <th>0</th>\n",
       "      <td>bacon</td>\n",
       "      <td>4.0</td>\n",
       "    </tr>\n",
       "    <tr>\n",
       "      <th>1</th>\n",
       "      <td>pulled pork</td>\n",
       "      <td>3.0</td>\n",
       "    </tr>\n",
       "    <tr>\n",
       "      <th>2</th>\n",
       "      <td>bacon</td>\n",
       "      <td>12.0</td>\n",
       "    </tr>\n",
       "    <tr>\n",
       "      <th>3</th>\n",
       "      <td>Pastrami</td>\n",
       "      <td>6.0</td>\n",
       "    </tr>\n",
       "    <tr>\n",
       "      <th>4</th>\n",
       "      <td>corned beef</td>\n",
       "      <td>7.5</td>\n",
       "    </tr>\n",
       "    <tr>\n",
       "      <th>5</th>\n",
       "      <td>Bacon</td>\n",
       "      <td>8.0</td>\n",
       "    </tr>\n",
       "    <tr>\n",
       "      <th>6</th>\n",
       "      <td>pastrami</td>\n",
       "      <td>3.0</td>\n",
       "    </tr>\n",
       "    <tr>\n",
       "      <th>7</th>\n",
       "      <td>honey ham</td>\n",
       "      <td>5.0</td>\n",
       "    </tr>\n",
       "    <tr>\n",
       "      <th>8</th>\n",
       "      <td>nova lox</td>\n",
       "      <td>6.0</td>\n",
       "    </tr>\n",
       "  </tbody>\n",
       "</table>\n",
       "</div>"
      ],
      "text/plain": [
       "          food  ounces\n",
       "0        bacon     4.0\n",
       "1  pulled pork     3.0\n",
       "2        bacon    12.0\n",
       "3     Pastrami     6.0\n",
       "4  corned beef     7.5\n",
       "5        Bacon     8.0\n",
       "6     pastrami     3.0\n",
       "7    honey ham     5.0\n",
       "8     nova lox     6.0"
      ]
     },
     "execution_count": 26,
     "metadata": {},
     "output_type": "execute_result"
    }
   ],
   "source": [
    "data = pd.DataFrame({'food': ['bacon', 'pulled pork', 'bacon',\n",
    "                                  'Pastrami', 'corned beef', 'Bacon',\n",
    "                                  'pastrami', 'honey ham', 'nova lox'],\n",
    "                         'ounces': [4, 3, 12, 6, 7.5, 8, 3, 5, 6]})\n",
    "data"
   ]
  },
  {
   "cell_type": "code",
   "execution_count": 28,
   "metadata": {},
   "outputs": [
    {
     "data": {
      "text/plain": [
       "3"
      ]
     },
     "execution_count": 28,
     "metadata": {},
     "output_type": "execute_result"
    }
   ],
   "source": [
    "data.index[3]"
   ]
  },
  {
   "cell_type": "code",
   "execution_count": 29,
   "metadata": {},
   "outputs": [
    {
     "data": {
      "text/plain": [
       "{'bacon': 'pig',\n",
       " 'pulled pork': 'pig',\n",
       " 'pastrami': 'cow',\n",
       " 'corned beef': 'cow',\n",
       " 'honey ham': 'pig',\n",
       " 'nova lox': 'salmon'}"
      ]
     },
     "execution_count": 29,
     "metadata": {},
     "output_type": "execute_result"
    }
   ],
   "source": [
    "meat_to_animal = {\n",
    "  'bacon': 'pig',\n",
    "  'pulled pork': 'pig',\n",
    "  'pastrami': 'cow',\n",
    "  'corned beef': 'cow',\n",
    "  'honey ham': 'pig',\n",
    "  'nova lox': 'salmon'\n",
    "}\n",
    "meat_to_animal"
   ]
  },
  {
   "cell_type": "code",
   "execution_count": 30,
   "metadata": {},
   "outputs": [],
   "source": [
    "lowercased = data['food'].str.lower()"
   ]
  },
  {
   "cell_type": "code",
   "execution_count": 31,
   "metadata": {},
   "outputs": [
    {
     "data": {
      "text/plain": [
       "0          bacon\n",
       "1    pulled pork\n",
       "2          bacon\n",
       "3       Pastrami\n",
       "4    corned beef\n",
       "5          Bacon\n",
       "6       pastrami\n",
       "7      honey ham\n",
       "8       nova lox\n",
       "Name: food, dtype: object"
      ]
     },
     "execution_count": 31,
     "metadata": {},
     "output_type": "execute_result"
    }
   ],
   "source": [
    "data['food']"
   ]
  },
  {
   "cell_type": "code",
   "execution_count": 32,
   "metadata": {},
   "outputs": [
    {
     "data": {
      "text/plain": [
       "0          bacon\n",
       "1    pulled pork\n",
       "2          bacon\n",
       "3       pastrami\n",
       "4    corned beef\n",
       "5          bacon\n",
       "6       pastrami\n",
       "7      honey ham\n",
       "8       nova lox\n",
       "Name: food, dtype: object"
      ]
     },
     "execution_count": 32,
     "metadata": {},
     "output_type": "execute_result"
    }
   ],
   "source": [
    "lowercased"
   ]
  },
  {
   "cell_type": "code",
   "execution_count": 33,
   "metadata": {},
   "outputs": [
    {
     "data": {
      "text/html": [
       "<div>\n",
       "<style scoped>\n",
       "    .dataframe tbody tr th:only-of-type {\n",
       "        vertical-align: middle;\n",
       "    }\n",
       "\n",
       "    .dataframe tbody tr th {\n",
       "        vertical-align: top;\n",
       "    }\n",
       "\n",
       "    .dataframe thead th {\n",
       "        text-align: right;\n",
       "    }\n",
       "</style>\n",
       "<table border=\"1\" class=\"dataframe\">\n",
       "  <thead>\n",
       "    <tr style=\"text-align: right;\">\n",
       "      <th></th>\n",
       "      <th>food</th>\n",
       "      <th>ounces</th>\n",
       "      <th>animal</th>\n",
       "    </tr>\n",
       "  </thead>\n",
       "  <tbody>\n",
       "    <tr>\n",
       "      <th>0</th>\n",
       "      <td>bacon</td>\n",
       "      <td>4.0</td>\n",
       "      <td>pig</td>\n",
       "    </tr>\n",
       "    <tr>\n",
       "      <th>1</th>\n",
       "      <td>pulled pork</td>\n",
       "      <td>3.0</td>\n",
       "      <td>pig</td>\n",
       "    </tr>\n",
       "    <tr>\n",
       "      <th>2</th>\n",
       "      <td>bacon</td>\n",
       "      <td>12.0</td>\n",
       "      <td>pig</td>\n",
       "    </tr>\n",
       "    <tr>\n",
       "      <th>3</th>\n",
       "      <td>Pastrami</td>\n",
       "      <td>6.0</td>\n",
       "      <td>cow</td>\n",
       "    </tr>\n",
       "    <tr>\n",
       "      <th>4</th>\n",
       "      <td>corned beef</td>\n",
       "      <td>7.5</td>\n",
       "      <td>cow</td>\n",
       "    </tr>\n",
       "    <tr>\n",
       "      <th>5</th>\n",
       "      <td>Bacon</td>\n",
       "      <td>8.0</td>\n",
       "      <td>pig</td>\n",
       "    </tr>\n",
       "    <tr>\n",
       "      <th>6</th>\n",
       "      <td>pastrami</td>\n",
       "      <td>3.0</td>\n",
       "      <td>cow</td>\n",
       "    </tr>\n",
       "    <tr>\n",
       "      <th>7</th>\n",
       "      <td>honey ham</td>\n",
       "      <td>5.0</td>\n",
       "      <td>pig</td>\n",
       "    </tr>\n",
       "    <tr>\n",
       "      <th>8</th>\n",
       "      <td>nova lox</td>\n",
       "      <td>6.0</td>\n",
       "      <td>salmon</td>\n",
       "    </tr>\n",
       "  </tbody>\n",
       "</table>\n",
       "</div>"
      ],
      "text/plain": [
       "          food  ounces  animal\n",
       "0        bacon     4.0     pig\n",
       "1  pulled pork     3.0     pig\n",
       "2        bacon    12.0     pig\n",
       "3     Pastrami     6.0     cow\n",
       "4  corned beef     7.5     cow\n",
       "5        Bacon     8.0     pig\n",
       "6     pastrami     3.0     cow\n",
       "7    honey ham     5.0     pig\n",
       "8     nova lox     6.0  salmon"
      ]
     },
     "execution_count": 33,
     "metadata": {},
     "output_type": "execute_result"
    }
   ],
   "source": [
    "data['animal'] = lowercased.map(meat_to_animal)\n",
    "data"
   ]
  },
  {
   "cell_type": "code",
   "execution_count": 34,
   "metadata": {},
   "outputs": [
    {
     "data": {
      "text/html": [
       "<div>\n",
       "<style scoped>\n",
       "    .dataframe tbody tr th:only-of-type {\n",
       "        vertical-align: middle;\n",
       "    }\n",
       "\n",
       "    .dataframe tbody tr th {\n",
       "        vertical-align: top;\n",
       "    }\n",
       "\n",
       "    .dataframe thead th {\n",
       "        text-align: right;\n",
       "    }\n",
       "</style>\n",
       "<table border=\"1\" class=\"dataframe\">\n",
       "  <thead>\n",
       "    <tr style=\"text-align: right;\">\n",
       "      <th></th>\n",
       "      <th>one</th>\n",
       "      <th>two</th>\n",
       "      <th>three</th>\n",
       "      <th>four</th>\n",
       "    </tr>\n",
       "  </thead>\n",
       "  <tbody>\n",
       "    <tr>\n",
       "      <th>Ohio</th>\n",
       "      <td>0</td>\n",
       "      <td>1</td>\n",
       "      <td>2</td>\n",
       "      <td>3</td>\n",
       "    </tr>\n",
       "    <tr>\n",
       "      <th>Colorado</th>\n",
       "      <td>4</td>\n",
       "      <td>5</td>\n",
       "      <td>6</td>\n",
       "      <td>7</td>\n",
       "    </tr>\n",
       "    <tr>\n",
       "      <th>New York</th>\n",
       "      <td>8</td>\n",
       "      <td>9</td>\n",
       "      <td>10</td>\n",
       "      <td>11</td>\n",
       "    </tr>\n",
       "  </tbody>\n",
       "</table>\n",
       "</div>"
      ],
      "text/plain": [
       "          one  two  three  four\n",
       "Ohio        0    1      2     3\n",
       "Colorado    4    5      6     7\n",
       "New York    8    9     10    11"
      ]
     },
     "execution_count": 34,
     "metadata": {},
     "output_type": "execute_result"
    }
   ],
   "source": [
    "data = pd.DataFrame(np.arange(12).reshape((3, 4)),\n",
    "                        index=['Ohio', 'Colorado', 'New York'],\n",
    "                        columns=['one', 'two', 'three', 'four'])\n",
    "data"
   ]
  },
  {
   "cell_type": "code",
   "execution_count": 35,
   "metadata": {},
   "outputs": [
    {
     "data": {
      "text/plain": [
       "Index(['OHIO', 'COLO', 'NEW '], dtype='object')"
      ]
     },
     "execution_count": 35,
     "metadata": {},
     "output_type": "execute_result"
    }
   ],
   "source": [
    "transform = lambda x: x[:4].upper()\n",
    "data.index.map(transform)"
   ]
  },
  {
   "cell_type": "code",
   "execution_count": 36,
   "metadata": {},
   "outputs": [
    {
     "data": {
      "text/plain": [
       "Index(['Ohio', 'Colorado', 'New York'], dtype='object')"
      ]
     },
     "execution_count": 36,
     "metadata": {},
     "output_type": "execute_result"
    }
   ],
   "source": [
    "data.index"
   ]
  },
  {
   "cell_type": "code",
   "execution_count": 37,
   "metadata": {},
   "outputs": [],
   "source": [
    "ages = [20, 22, 25, 27, 21, 23, 37, 31, 61, 45, 41, 32]\n",
    "bins = [18, 25, 35, 60, 100]"
   ]
  },
  {
   "cell_type": "code",
   "execution_count": 38,
   "metadata": {},
   "outputs": [
    {
     "data": {
      "text/plain": [
       "[(18, 25], (18, 25], (18, 25], (25, 35], (18, 25], ..., (25, 35], (60, 100], (35, 60], (35, 60], (25, 35]]\n",
       "Length: 12\n",
       "Categories (4, interval[int64]): [(18, 25] < (25, 35] < (35, 60] < (60, 100]]"
      ]
     },
     "execution_count": 38,
     "metadata": {},
     "output_type": "execute_result"
    }
   ],
   "source": [
    "cats = pd.cut(ages, bins)\n",
    "cats"
   ]
  },
  {
   "cell_type": "code",
   "execution_count": 39,
   "metadata": {},
   "outputs": [
    {
     "data": {
      "text/plain": [
       "array([0, 0, 0, 1, 0, 0, 2, 1, 3, 2, 2, 1], dtype=int8)"
      ]
     },
     "execution_count": 39,
     "metadata": {},
     "output_type": "execute_result"
    }
   ],
   "source": [
    "cats.codes"
   ]
  },
  {
   "cell_type": "code",
   "execution_count": 40,
   "metadata": {},
   "outputs": [
    {
     "data": {
      "text/plain": [
       "IntervalIndex([(18, 25], (25, 35], (35, 60], (60, 100]]\n",
       "              closed='right',\n",
       "              dtype='interval[int64]')"
      ]
     },
     "execution_count": 40,
     "metadata": {},
     "output_type": "execute_result"
    }
   ],
   "source": [
    "cats.categories"
   ]
  },
  {
   "cell_type": "code",
   "execution_count": 41,
   "metadata": {},
   "outputs": [
    {
     "data": {
      "text/plain": [
       "(18, 25]     5\n",
       "(35, 60]     3\n",
       "(25, 35]     3\n",
       "(60, 100]    1\n",
       "dtype: int64"
      ]
     },
     "execution_count": 41,
     "metadata": {},
     "output_type": "execute_result"
    }
   ],
   "source": [
    "pd.value_counts(cats)"
   ]
  },
  {
   "cell_type": "code",
   "execution_count": 42,
   "metadata": {},
   "outputs": [
    {
     "data": {
      "text/plain": [
       "[Youth, Youth, Youth, YoungAdult, Youth, ..., YoungAdult, Senior, MiddleAged, MiddleAged, YoungAdult]\n",
       "Length: 12\n",
       "Categories (4, object): [Youth < YoungAdult < MiddleAged < Senior]"
      ]
     },
     "execution_count": 42,
     "metadata": {},
     "output_type": "execute_result"
    }
   ],
   "source": [
    "group_names = ['Youth', 'YoungAdult', 'MiddleAged', 'Senior']\n",
    "pd.cut(ages, bins, labels=group_names)    "
   ]
  },
  {
   "cell_type": "code",
   "execution_count": 43,
   "metadata": {},
   "outputs": [
    {
     "data": {
      "text/plain": [
       "array([0.60644836, 0.70322274, 0.68448221, 0.76852959, 0.78689582,\n",
       "       0.979673  , 0.30868911, 0.56166321, 0.20288398, 0.09645826,\n",
       "       0.82411868, 0.45765006, 0.23049113, 0.81445388, 0.98864258,\n",
       "       0.68126348, 0.3702463 , 0.7622349 , 0.83049553, 0.12341142])"
      ]
     },
     "execution_count": 43,
     "metadata": {},
     "output_type": "execute_result"
    }
   ],
   "source": [
    "import numpy as np\n",
    "data = np.random.rand(20)\n",
    "data"
   ]
  },
  {
   "cell_type": "code",
   "execution_count": 44,
   "metadata": {},
   "outputs": [
    {
     "data": {
      "text/plain": [
       "[(0.54, 0.77], (0.54, 0.77], (0.54, 0.77], (0.77, 0.99], (0.77, 0.99], ..., (0.54, 0.77], (0.32, 0.54], (0.54, 0.77], (0.77, 0.99], (0.096, 0.32]]\n",
       "Length: 20\n",
       "Categories (4, interval[float64]): [(0.096, 0.32] < (0.32, 0.54] < (0.54, 0.77] < (0.77, 0.99]]"
      ]
     },
     "execution_count": 44,
     "metadata": {},
     "output_type": "execute_result"
    }
   ],
   "source": [
    "pd.cut(data, 4, precision=2)"
   ]
  },
  {
   "cell_type": "code",
   "execution_count": 45,
   "metadata": {},
   "outputs": [],
   "source": [
    "data = np.random.randn(1000)"
   ]
  },
  {
   "cell_type": "code",
   "execution_count": 46,
   "metadata": {},
   "outputs": [
    {
     "data": {
      "text/plain": [
       "array([ 0.20312115, -0.38971576, -0.48353349, -0.92549771, -0.08981121,\n",
       "        0.79886133, -0.70906046,  0.04044397, -0.85044022, -0.67879739,\n",
       "        0.85707329,  1.69648111, -1.26466172, -1.20588847,  0.66462665,\n",
       "        1.04391973, -0.20769499,  0.12137958,  0.44147835,  3.33159293,\n",
       "        0.10465387,  1.42243177, -1.61818797,  0.17069871, -0.73840036,\n",
       "        0.90289414,  1.6858946 ,  1.70106865,  0.37602514,  0.70835128,\n",
       "        2.80402675,  1.17564273,  0.66666863, -0.27086936,  0.93123875,\n",
       "        0.50221332, -1.8928399 ,  0.3860242 ,  0.02951646,  0.82026146,\n",
       "        0.22182026,  1.27095974,  0.99751183, -0.42397581,  0.22490362,\n",
       "        2.36988338, -1.27182055,  0.37983569, -1.49095502, -1.22687186,\n",
       "        2.25238552, -0.4554112 ,  1.15624093, -0.0903784 ,  0.10312053,\n",
       "       -0.29550092,  0.31984937, -0.76913249, -0.64870597,  0.9361956 ,\n",
       "       -0.65619655, -2.49255343,  0.95542246,  0.05882355, -0.10322974,\n",
       "        1.90630716,  0.8635408 ,  0.96306392,  0.19486557, -0.47214895,\n",
       "        0.31592403, -1.46800898,  0.26015102,  0.18817864,  0.56339005,\n",
       "       -0.01758147,  1.39652355, -0.4904023 ,  0.26582077, -0.72479466,\n",
       "       -0.12344881, -0.71859772, -0.22176673,  0.85692687,  0.41751236,\n",
       "       -0.32693502,  0.00700429,  1.18364145, -0.55907015, -0.1974533 ,\n",
       "        0.53838102, -0.73996608, -1.11383708, -0.38143961,  0.79388678,\n",
       "        1.24730718, -0.24051868, -0.3596347 , -1.39696199, -0.17172239,\n",
       "       -1.03654514,  0.96607133,  1.77048907, -0.8018841 , -0.86108728,\n",
       "       -0.80932771, -1.41665395, -0.34623712, -1.11491148,  0.33244769,\n",
       "        0.32482704,  0.66564487, -0.27837158, -0.54704976, -1.40110978,\n",
       "        0.67363141, -1.52158553,  0.26051049,  0.01341691, -0.45726151,\n",
       "        0.36395587,  0.11515937,  1.8596136 ,  1.18257358, -0.39982381,\n",
       "        0.17248579, -0.70633667, -0.20793881,  1.6482303 , -0.82666908,\n",
       "        0.28955414,  0.0976305 , -0.81553933, -0.27083923,  0.41185342,\n",
       "        0.50450122, -0.06446474,  1.32866437,  0.16290475,  1.22786511,\n",
       "       -0.29386163,  0.13826829,  0.76856548,  0.98564982, -1.01461589,\n",
       "        2.26125338, -1.21699244, -0.19363471,  1.26643662, -1.06468269,\n",
       "        1.39344062, -1.32917426, -0.18424151,  0.51069562,  0.73154923,\n",
       "       -0.53329286, -0.04276468, -0.62205166, -0.17894051, -1.57214728,\n",
       "       -0.57034618, -0.25900856,  0.82862838,  0.51534061,  1.10817379,\n",
       "        0.45041028, -0.81905397,  0.88213591,  0.32210383,  0.24184129,\n",
       "       -1.97876978, -0.82055788, -0.46215067, -1.28807271, -0.72538001,\n",
       "        0.01296422, -1.57000415,  0.95127059, -0.49218935, -1.24208935,\n",
       "       -0.74004709,  0.13022599, -1.08634212, -0.59107644, -0.87415872,\n",
       "        0.83552947, -1.42894362, -2.15756226,  0.04477072, -1.12004536,\n",
       "        0.84114634, -1.19549496, -0.6795927 , -0.76792257, -1.74340473,\n",
       "        1.30357202,  0.05785964, -0.60840238,  0.52590891,  0.02562907,\n",
       "        0.77511656,  1.83247287, -0.04532293,  0.22947772,  0.63857893,\n",
       "        0.00526379, -1.45904359,  1.29422217, -0.32954994, -0.21992381,\n",
       "       -0.17831487,  1.93322742, -1.11328915, -1.30723882,  1.06501736,\n",
       "       -1.24600719,  1.51363011, -1.30955988,  0.30203888, -1.2004653 ,\n",
       "       -0.55731724,  1.04047326,  0.77514872, -1.80678804,  1.8365238 ,\n",
       "        1.0218851 ,  0.74872656, -0.97318492,  0.10819719,  0.96297886,\n",
       "       -1.27595079, -0.13903265,  0.57628798, -1.02028747, -1.31857848,\n",
       "        1.02776185, -0.03557776, -1.03360024,  0.98997248,  1.46809437,\n",
       "       -1.35991704, -0.75597006,  0.11102975,  0.25433584, -2.62800244,\n",
       "       -1.34665329,  0.6213186 ,  0.07180347,  0.63446306,  1.29005691,\n",
       "       -1.23474626,  0.84813796,  0.71521457,  0.0411127 , -2.0624295 ,\n",
       "        1.13802372,  0.49036144,  0.02583011, -0.06445523,  0.34228595,\n",
       "        1.77756144, -0.00706941,  0.94618264,  0.40533442, -1.10383171,\n",
       "       -0.6790167 ,  0.14887376,  1.07463062,  0.87653662,  0.33933863,\n",
       "       -1.25372891,  1.46596485,  0.30696242,  0.18632055,  1.05188918,\n",
       "        0.61556526,  0.5762459 ,  1.43553852,  0.19584389,  0.34140123,\n",
       "       -0.05825699, -0.36072134, -0.20426288, -0.08411412,  0.86194196,\n",
       "       -3.82670705,  0.12145875,  0.64624722, -1.52918052,  0.392877  ,\n",
       "        0.47084342, -0.93319019, -0.88905876, -2.22866117, -1.08006668,\n",
       "       -1.13709844, -0.68858369,  0.50720811, -0.05597062, -0.11360498,\n",
       "       -0.30145609,  0.29072146,  0.68214374,  0.5550662 ,  1.67132827,\n",
       "        0.02364501,  1.91022831,  0.62165998,  0.88035127, -0.66886482,\n",
       "        0.86893357,  0.85877477, -0.71021592,  0.56664   , -1.84971355,\n",
       "        0.48947435,  1.14132582, -0.99854158, -0.63384126,  1.13893738,\n",
       "        0.19521637, -1.24259644, -0.72331522, -1.05404874,  0.40634439,\n",
       "        1.08140653,  1.44265306, -0.8405956 ,  1.12549779,  1.32390153,\n",
       "        1.45276882, -0.21772778, -1.06467968,  1.03524492,  0.44890737,\n",
       "       -1.11445416, -0.56905038,  0.74345152, -0.27169016, -0.90502829,\n",
       "       -0.16363158, -1.9698029 , -0.8458795 ,  0.91254419, -1.19605807,\n",
       "       -0.32970712, -0.18106275, -0.40384658,  0.55544459,  0.81883257,\n",
       "       -0.05369416, -1.71863098,  0.5967757 , -0.21474405, -0.60556373,\n",
       "       -0.01176167, -0.21335749,  0.73021244, -0.07693931, -0.16773224,\n",
       "       -1.57108382,  0.79390688,  1.10968747,  0.0825035 ,  1.76720984,\n",
       "       -0.94224129, -0.83847766,  0.16827075, -0.8900729 , -2.1010011 ,\n",
       "        1.40900416, -0.83080242,  0.86598104,  0.38973536, -1.52645836,\n",
       "       -0.33184685,  0.56873898, -1.08585302,  0.65330418,  0.39227278,\n",
       "        0.43712448,  1.19929258,  0.86694687, -0.44704176, -0.71465357,\n",
       "        0.97815434,  0.37660345, -0.44251655,  0.02991871, -0.37949356,\n",
       "        0.53543346,  2.13658813, -1.03593859,  1.63628372, -1.54417337,\n",
       "       -0.61810678, -0.64001484,  0.97435892,  1.01857136,  2.08714718,\n",
       "       -0.22415447,  0.76024247, -0.23980154, -1.02292565,  1.12357878,\n",
       "       -0.41692523, -0.37533439,  1.01985167, -0.03693475,  0.53992048,\n",
       "        0.60778819, -2.2994646 , -1.18227007, -1.87283979, -0.96925329,\n",
       "       -1.22683327, -0.8927541 ,  1.13576887, -0.55790114, -0.04862659,\n",
       "        0.26379842, -0.14751617, -0.25284194,  0.54358777,  0.23195458,\n",
       "        1.15945599, -0.39570112,  0.52370893,  1.13019144,  1.9204658 ,\n",
       "       -0.0312566 , -0.27694951, -0.21653848, -0.36137035,  0.91373783,\n",
       "        0.7096022 , -1.8699417 , -0.96011887, -0.07931695,  0.34709905,\n",
       "        0.66332573, -1.0717208 ,  0.75712906,  0.3942289 , -0.44846918,\n",
       "        0.61834487,  0.86677929,  0.40062234, -0.06433698,  0.32412661,\n",
       "        1.81881046, -0.25659378,  0.1657907 ,  1.1879404 ,  1.80158641,\n",
       "       -1.03987839,  0.56230585, -0.36214389,  1.06764777,  0.1052138 ,\n",
       "        0.45045435,  0.16407251, -0.60420921,  1.61810703, -0.87380794,\n",
       "        0.11468668,  0.25411372, -0.41924259, -2.42489247, -0.23111925,\n",
       "       -2.72410331,  0.31532898,  0.15152504,  1.2053232 ,  0.38110702,\n",
       "        0.68164975,  0.18895529, -0.85821176, -0.17033702,  0.5425994 ,\n",
       "        2.24832673, -1.63081825, -0.53917438,  2.41680922, -0.00747583,\n",
       "       -0.85376451,  1.2196888 ,  1.16589568,  0.31713127, -0.53100074,\n",
       "        0.17019417, -0.25217197, -0.72007498, -2.57819045,  0.57003734,\n",
       "        0.22308715,  0.30786769,  1.24612982,  0.70238482,  0.76003046,\n",
       "       -0.30806491,  1.19115732, -0.9310645 , -0.51721449, -0.96143573,\n",
       "        0.06446879, -1.16798902, -0.32089517, -0.02135322, -1.6727495 ,\n",
       "       -0.46386179,  1.89063127, -0.26531393,  1.06408678, -1.58287908,\n",
       "       -0.92420224, -2.19956758, -0.1343089 , -0.13034877, -0.67785975,\n",
       "        2.04593005, -1.1069883 ,  0.92339146,  0.34613949,  0.3579397 ,\n",
       "       -2.00109931,  0.58597139,  1.1110131 , -0.38554453, -0.17519944,\n",
       "        0.53099396, -0.46474998,  0.03306317,  0.32758416,  0.13723164,\n",
       "       -0.3029106 ,  0.55101389,  0.64892234,  0.22220512,  0.41736834,\n",
       "       -0.40278731, -0.92257404, -0.4709706 ,  1.07971809, -2.98458313,\n",
       "       -1.45542264, -0.51391948,  1.31702519,  0.03543506, -1.16727541,\n",
       "       -0.88105748,  2.73643199,  0.97248827, -1.41042102,  0.39907719,\n",
       "       -0.54859373,  0.46252558,  0.60683933,  0.1794711 , -0.24471476,\n",
       "        1.32748711, -0.79789492,  0.60926951, -1.08152013, -0.87963287,\n",
       "       -0.38537296, -0.95698381, -0.2431626 , -0.3573572 ,  0.29356553,\n",
       "       -0.62134141, -0.77314788,  0.90931383,  0.61601119, -0.63935234,\n",
       "       -0.43878696,  0.76205606,  0.31421953,  2.78144126, -1.52156051,\n",
       "        2.10574521,  1.11814177,  0.16701422,  0.40596675,  1.34576288,\n",
       "        1.40415114,  0.06335548, -0.80781649,  0.5926648 ,  0.01537509,\n",
       "        0.99407383, -0.76417092,  2.70625604,  0.46164874,  0.35997459,\n",
       "       -0.94031169, -1.29395164,  0.46370337, -1.44845246,  1.06049146,\n",
       "       -0.38263321,  0.81837133,  2.09298554, -0.29398375,  0.94451859,\n",
       "        0.57609105,  0.46814336, -1.51491231,  0.23468822, -0.65263943,\n",
       "        0.71038977,  0.52499587,  0.20679417,  0.88323543, -0.54735462,\n",
       "        0.79878992,  0.1741608 ,  0.33114483, -0.09574526, -0.14682171,\n",
       "       -1.44461173, -0.45685533,  0.45345845,  0.6115682 ,  0.51904705,\n",
       "       -0.08554828, -0.33622008, -0.36839741, -0.27757359,  0.35201071,\n",
       "        0.7552214 , -1.10422469, -0.1184962 , -0.98011058,  1.6595799 ,\n",
       "       -1.46347254, -0.4074966 ,  0.29494608, -1.24154882, -0.46094382,\n",
       "       -0.03102645,  0.77876052, -0.43667225,  0.79975623,  0.55406677,\n",
       "       -0.20982131, -0.1349337 ,  1.20915455, -0.81934406, -0.09049838,\n",
       "        0.10558665,  1.08746406, -0.38975061, -0.40291929,  0.80048324,\n",
       "       -0.49118823, -0.31956532,  1.25231774,  0.71661156,  1.66958084,\n",
       "        0.78135488, -0.99963037, -0.91906892, -0.05716542,  0.71789594,\n",
       "        0.16380655, -1.5077756 ,  1.22425423,  1.84231013,  0.78596497,\n",
       "       -2.26789522, -0.29681176, -0.57445681, -1.56972791, -1.17264528,\n",
       "        0.02989922, -0.86249079,  0.42151736, -1.28850696,  0.00980887,\n",
       "        0.96637422, -0.46187205,  0.14531877,  2.04462035, -0.46055019,\n",
       "        0.87082881, -0.3075837 ,  1.00326032,  2.37476742, -0.82742674,\n",
       "       -1.48860569,  0.02088268,  0.52631272, -0.99376861, -0.05263605,\n",
       "        0.68559637, -2.16613173, -1.3522044 , -1.1963832 ,  0.32446162,\n",
       "       -0.61033679,  0.81991253, -1.01587967,  0.77505944, -0.57161344,\n",
       "        1.06490296, -0.71751897, -0.48953391, -1.15878859, -1.1435067 ,\n",
       "       -0.09363471,  0.3786181 ,  0.55190528,  1.03743302,  1.07458943,\n",
       "        1.60616058,  0.07939234,  1.16516489, -0.31136886, -1.60532113,\n",
       "        1.52038324, -0.01048865,  0.98744115, -0.42861488,  0.41760295,\n",
       "       -1.10343746,  0.10330518,  0.07448941, -0.76123027, -0.00932263,\n",
       "        1.8858055 ,  0.93244288,  0.95165386, -0.18443937, -0.10841579,\n",
       "        1.78518695,  0.77050207,  0.42570189, -0.93070576, -2.48126406,\n",
       "       -1.12462066, -0.14778724,  0.68591655, -1.57882008,  0.26041817,\n",
       "       -1.91811927, -1.13939519, -0.58351585,  0.5393228 , -0.93763943,\n",
       "       -0.27576519,  1.07326189,  1.45091432,  1.98646322, -1.63669606,\n",
       "       -0.22110407,  0.05708642,  0.89157443,  0.6773831 , -0.45328847,\n",
       "        0.18828482, -0.7849523 , -0.75597778,  1.33938298,  2.03413288,\n",
       "        1.34611984,  0.02390275, -0.37807988,  0.69290908, -0.56671656,\n",
       "        0.21214352,  0.39739407, -0.65048441, -0.17862337,  1.15991615,\n",
       "       -0.18010345,  0.20773527,  1.82414791,  2.31429809, -1.33234346,\n",
       "        2.58395629,  0.8620518 ,  0.1248878 ,  0.50005373, -1.12926529,\n",
       "        0.50975392, -0.43451591, -0.56476358,  0.99213045,  0.4195942 ,\n",
       "       -0.24882572, -0.6012761 ,  2.34521358, -1.51791361, -0.76862654,\n",
       "       -0.84657348, -0.14066758,  1.51677098,  0.74533724,  1.27013831,\n",
       "        1.54992255, -0.13390535, -0.64879838,  0.06611091,  1.12521902,\n",
       "        0.79164111,  2.56235106, -0.64998064, -1.62389903, -0.76598062,\n",
       "       -0.33111142,  0.45239242, -1.04744063, -2.00654811, -0.59340177,\n",
       "       -0.78459022,  0.15608193, -0.25652688, -0.30624385, -0.84863241,\n",
       "        1.06820052,  0.82684315,  1.47773412, -0.71614425,  1.4058573 ,\n",
       "        0.24269234,  1.17804719,  0.35351869,  0.6064892 , -1.10579696,\n",
       "        0.60685591,  1.45159885,  1.10495497, -0.36527264, -0.73325644,\n",
       "       -0.2138068 , -0.99140614, -0.53558793, -0.26396861, -1.40318519,\n",
       "       -0.36346814,  0.18250818,  0.38118535,  1.72574377, -0.09677646,\n",
       "       -1.7715154 , -0.95293515,  0.54810951,  2.01802103, -1.09010802,\n",
       "       -1.46836797,  0.27382036, -0.65542243, -0.08072097,  0.79964878,\n",
       "       -0.68714268,  2.64596575, -0.35157876,  1.42305275, -0.14839079,\n",
       "       -0.3398626 , -0.02371718, -0.63174479,  1.04582404, -1.38633031,\n",
       "       -0.1277198 , -0.23355186,  0.44714397, -0.38362092, -0.83351019,\n",
       "        0.28255316,  0.50703473,  1.33301664,  0.62879607,  0.30090692,\n",
       "        0.21629363, -1.30483758, -0.35006272,  0.93879891, -0.89711949,\n",
       "        0.94925748, -0.7272269 , -0.8516216 , -0.04485425, -0.34031907,\n",
       "        1.34746219,  0.79140262,  0.5771648 ,  0.18621373,  0.50011531,\n",
       "       -0.61242415, -0.71800228, -0.79940484, -0.64436719,  1.18738083,\n",
       "        1.674038  , -0.56176705, -0.57165594,  1.32780757,  0.55996429,\n",
       "       -0.62977843,  0.95216761, -0.37851014,  0.15544106, -0.45438906,\n",
       "       -0.42508567, -2.81092574,  0.62778316,  0.36031638, -0.19087066,\n",
       "       -0.75931517,  1.7194422 , -0.87086674, -0.97265463,  0.82501929,\n",
       "        1.32389475, -0.630964  , -1.3810143 , -0.36472516, -0.51363896,\n",
       "       -1.86832442,  0.91459473,  0.04019612, -1.03518832, -1.26173468,\n",
       "       -0.80837655,  0.40311288,  0.51479406,  1.49776292, -1.43356079,\n",
       "       -0.0768175 , -0.47392131, -0.83979025,  0.56487367,  0.20050762,\n",
       "       -1.39123725,  0.45315529, -0.55857989, -1.00191219, -0.24595204,\n",
       "        0.22294978, -0.14544329,  2.08410961, -0.23924853,  0.21623732,\n",
       "        0.90955281, -0.73063328,  0.66279876, -1.1054102 , -1.28984802,\n",
       "       -0.04670757,  1.43374949,  0.24924146,  0.01681159, -0.77107609,\n",
       "       -0.72031971, -1.61705099, -0.25999393, -0.38142751, -0.6141028 ,\n",
       "        0.43866427,  0.06083963,  0.82538492, -0.64978087,  0.27360923,\n",
       "       -0.80347641,  0.56963231, -0.10126008, -0.92785142,  0.02977909,\n",
       "        0.64157495, -0.33488512,  0.94910773,  0.81161767,  1.10414526,\n",
       "        0.21888547, -0.39397938, -1.38783871,  0.28150305, -2.23463775,\n",
       "       -1.13800903, -0.09694896, -0.00572937,  0.18060556,  2.1929251 ,\n",
       "       -0.09650622, -0.46175934,  0.52936614, -0.33712552,  0.87247685,\n",
       "        0.00846801, -3.18448065, -0.19476269,  0.37569785, -0.07291383,\n",
       "       -0.41202325,  1.06549086,  0.12794113, -1.48239029, -0.30382291])"
      ]
     },
     "execution_count": 46,
     "metadata": {},
     "output_type": "execute_result"
    }
   ],
   "source": [
    "data"
   ]
  },
  {
   "cell_type": "code",
   "execution_count": 47,
   "metadata": {},
   "outputs": [],
   "source": [
    "cats = pd.qcut(data, 4)"
   ]
  },
  {
   "cell_type": "code",
   "execution_count": 48,
   "metadata": {},
   "outputs": [
    {
     "data": {
      "text/plain": [
       "[(0.0132, 0.688], (-0.651, 0.0132], (-0.651, 0.0132], (-3.828, -0.651], (-0.651, 0.0132], ..., (-0.651, 0.0132], (0.688, 3.332], (0.0132, 0.688], (-3.828, -0.651], (-0.651, 0.0132]]\n",
       "Length: 1000\n",
       "Categories (4, interval[float64]): [(-3.828, -0.651] < (-0.651, 0.0132] < (0.0132, 0.688] < (0.688, 3.332]]"
      ]
     },
     "execution_count": 48,
     "metadata": {},
     "output_type": "execute_result"
    }
   ],
   "source": [
    "cats"
   ]
  },
  {
   "cell_type": "code",
   "execution_count": 49,
   "metadata": {},
   "outputs": [
    {
     "data": {
      "text/plain": [
       "(0.688, 3.332]      250\n",
       "(0.0132, 0.688]     250\n",
       "(-0.651, 0.0132]    250\n",
       "(-3.828, -0.651]    250\n",
       "dtype: int64"
      ]
     },
     "execution_count": 49,
     "metadata": {},
     "output_type": "execute_result"
    }
   ],
   "source": [
    "pd.value_counts(cats)"
   ]
  },
  {
   "cell_type": "code",
   "execution_count": 50,
   "metadata": {},
   "outputs": [],
   "source": [
    "data = pd.DataFrame(np.random.randn(1000, 4))"
   ]
  },
  {
   "cell_type": "code",
   "execution_count": 51,
   "metadata": {},
   "outputs": [
    {
     "data": {
      "text/html": [
       "<div>\n",
       "<style scoped>\n",
       "    .dataframe tbody tr th:only-of-type {\n",
       "        vertical-align: middle;\n",
       "    }\n",
       "\n",
       "    .dataframe tbody tr th {\n",
       "        vertical-align: top;\n",
       "    }\n",
       "\n",
       "    .dataframe thead th {\n",
       "        text-align: right;\n",
       "    }\n",
       "</style>\n",
       "<table border=\"1\" class=\"dataframe\">\n",
       "  <thead>\n",
       "    <tr style=\"text-align: right;\">\n",
       "      <th></th>\n",
       "      <th>0</th>\n",
       "      <th>1</th>\n",
       "      <th>2</th>\n",
       "      <th>3</th>\n",
       "    </tr>\n",
       "  </thead>\n",
       "  <tbody>\n",
       "    <tr>\n",
       "      <th>0</th>\n",
       "      <td>-1.381130</td>\n",
       "      <td>-0.356331</td>\n",
       "      <td>-0.098626</td>\n",
       "      <td>1.802365</td>\n",
       "    </tr>\n",
       "    <tr>\n",
       "      <th>1</th>\n",
       "      <td>-0.652522</td>\n",
       "      <td>1.193359</td>\n",
       "      <td>1.794364</td>\n",
       "      <td>1.631314</td>\n",
       "    </tr>\n",
       "    <tr>\n",
       "      <th>2</th>\n",
       "      <td>-0.388859</td>\n",
       "      <td>-1.921122</td>\n",
       "      <td>-0.786567</td>\n",
       "      <td>1.030471</td>\n",
       "    </tr>\n",
       "    <tr>\n",
       "      <th>3</th>\n",
       "      <td>-0.448289</td>\n",
       "      <td>-0.865679</td>\n",
       "      <td>1.107056</td>\n",
       "      <td>1.326829</td>\n",
       "    </tr>\n",
       "    <tr>\n",
       "      <th>4</th>\n",
       "      <td>-0.615888</td>\n",
       "      <td>0.894664</td>\n",
       "      <td>-1.332875</td>\n",
       "      <td>0.816284</td>\n",
       "    </tr>\n",
       "    <tr>\n",
       "      <th>5</th>\n",
       "      <td>-0.957505</td>\n",
       "      <td>-0.081830</td>\n",
       "      <td>-0.148197</td>\n",
       "      <td>0.460498</td>\n",
       "    </tr>\n",
       "    <tr>\n",
       "      <th>6</th>\n",
       "      <td>0.526771</td>\n",
       "      <td>1.271952</td>\n",
       "      <td>1.989603</td>\n",
       "      <td>-0.281142</td>\n",
       "    </tr>\n",
       "    <tr>\n",
       "      <th>7</th>\n",
       "      <td>0.889165</td>\n",
       "      <td>-1.062190</td>\n",
       "      <td>-1.076028</td>\n",
       "      <td>0.858386</td>\n",
       "    </tr>\n",
       "    <tr>\n",
       "      <th>8</th>\n",
       "      <td>2.207743</td>\n",
       "      <td>-0.915412</td>\n",
       "      <td>0.971159</td>\n",
       "      <td>-1.420878</td>\n",
       "    </tr>\n",
       "    <tr>\n",
       "      <th>9</th>\n",
       "      <td>-0.851179</td>\n",
       "      <td>-0.009435</td>\n",
       "      <td>-0.957038</td>\n",
       "      <td>-0.367379</td>\n",
       "    </tr>\n",
       "    <tr>\n",
       "      <th>10</th>\n",
       "      <td>0.273200</td>\n",
       "      <td>0.675181</td>\n",
       "      <td>-1.144139</td>\n",
       "      <td>1.071028</td>\n",
       "    </tr>\n",
       "    <tr>\n",
       "      <th>11</th>\n",
       "      <td>0.226193</td>\n",
       "      <td>-0.479349</td>\n",
       "      <td>0.272546</td>\n",
       "      <td>1.238975</td>\n",
       "    </tr>\n",
       "    <tr>\n",
       "      <th>12</th>\n",
       "      <td>-2.241177</td>\n",
       "      <td>0.444231</td>\n",
       "      <td>-1.352233</td>\n",
       "      <td>-0.008204</td>\n",
       "    </tr>\n",
       "    <tr>\n",
       "      <th>13</th>\n",
       "      <td>-0.226582</td>\n",
       "      <td>0.432125</td>\n",
       "      <td>-0.804830</td>\n",
       "      <td>-2.256128</td>\n",
       "    </tr>\n",
       "    <tr>\n",
       "      <th>14</th>\n",
       "      <td>-1.402742</td>\n",
       "      <td>-0.634769</td>\n",
       "      <td>0.207209</td>\n",
       "      <td>0.609138</td>\n",
       "    </tr>\n",
       "    <tr>\n",
       "      <th>15</th>\n",
       "      <td>-2.113373</td>\n",
       "      <td>-0.368078</td>\n",
       "      <td>-1.522159</td>\n",
       "      <td>0.139253</td>\n",
       "    </tr>\n",
       "    <tr>\n",
       "      <th>16</th>\n",
       "      <td>0.736907</td>\n",
       "      <td>-1.822749</td>\n",
       "      <td>-0.771801</td>\n",
       "      <td>1.318658</td>\n",
       "    </tr>\n",
       "    <tr>\n",
       "      <th>17</th>\n",
       "      <td>-0.138619</td>\n",
       "      <td>2.644591</td>\n",
       "      <td>0.569825</td>\n",
       "      <td>-0.020669</td>\n",
       "    </tr>\n",
       "    <tr>\n",
       "      <th>18</th>\n",
       "      <td>1.018934</td>\n",
       "      <td>0.852774</td>\n",
       "      <td>0.092204</td>\n",
       "      <td>-1.821678</td>\n",
       "    </tr>\n",
       "    <tr>\n",
       "      <th>19</th>\n",
       "      <td>-1.207915</td>\n",
       "      <td>-2.136577</td>\n",
       "      <td>-1.989444</td>\n",
       "      <td>-2.011891</td>\n",
       "    </tr>\n",
       "    <tr>\n",
       "      <th>20</th>\n",
       "      <td>0.547142</td>\n",
       "      <td>-0.925198</td>\n",
       "      <td>-1.152869</td>\n",
       "      <td>-1.390651</td>\n",
       "    </tr>\n",
       "    <tr>\n",
       "      <th>21</th>\n",
       "      <td>-0.525391</td>\n",
       "      <td>-0.414060</td>\n",
       "      <td>0.977270</td>\n",
       "      <td>1.600940</td>\n",
       "    </tr>\n",
       "    <tr>\n",
       "      <th>22</th>\n",
       "      <td>2.351583</td>\n",
       "      <td>-0.671074</td>\n",
       "      <td>1.705224</td>\n",
       "      <td>1.261737</td>\n",
       "    </tr>\n",
       "    <tr>\n",
       "      <th>23</th>\n",
       "      <td>-0.143178</td>\n",
       "      <td>-0.685658</td>\n",
       "      <td>0.038118</td>\n",
       "      <td>0.006632</td>\n",
       "    </tr>\n",
       "    <tr>\n",
       "      <th>24</th>\n",
       "      <td>0.521959</td>\n",
       "      <td>-0.222727</td>\n",
       "      <td>1.131628</td>\n",
       "      <td>-0.037678</td>\n",
       "    </tr>\n",
       "    <tr>\n",
       "      <th>25</th>\n",
       "      <td>-0.152872</td>\n",
       "      <td>-0.776569</td>\n",
       "      <td>1.362917</td>\n",
       "      <td>0.869339</td>\n",
       "    </tr>\n",
       "    <tr>\n",
       "      <th>26</th>\n",
       "      <td>-0.415967</td>\n",
       "      <td>-1.046279</td>\n",
       "      <td>-0.188004</td>\n",
       "      <td>-0.065260</td>\n",
       "    </tr>\n",
       "    <tr>\n",
       "      <th>27</th>\n",
       "      <td>-0.387912</td>\n",
       "      <td>1.002659</td>\n",
       "      <td>1.016895</td>\n",
       "      <td>-0.898151</td>\n",
       "    </tr>\n",
       "    <tr>\n",
       "      <th>28</th>\n",
       "      <td>2.003808</td>\n",
       "      <td>1.858777</td>\n",
       "      <td>0.662387</td>\n",
       "      <td>-1.496474</td>\n",
       "    </tr>\n",
       "    <tr>\n",
       "      <th>29</th>\n",
       "      <td>0.918285</td>\n",
       "      <td>-0.288178</td>\n",
       "      <td>0.174248</td>\n",
       "      <td>-0.571770</td>\n",
       "    </tr>\n",
       "    <tr>\n",
       "      <th>...</th>\n",
       "      <td>...</td>\n",
       "      <td>...</td>\n",
       "      <td>...</td>\n",
       "      <td>...</td>\n",
       "    </tr>\n",
       "    <tr>\n",
       "      <th>970</th>\n",
       "      <td>-1.412614</td>\n",
       "      <td>-0.414254</td>\n",
       "      <td>-0.153346</td>\n",
       "      <td>-0.596794</td>\n",
       "    </tr>\n",
       "    <tr>\n",
       "      <th>971</th>\n",
       "      <td>-1.308029</td>\n",
       "      <td>-1.423388</td>\n",
       "      <td>-1.138759</td>\n",
       "      <td>1.309737</td>\n",
       "    </tr>\n",
       "    <tr>\n",
       "      <th>972</th>\n",
       "      <td>1.190093</td>\n",
       "      <td>-0.398280</td>\n",
       "      <td>-1.555318</td>\n",
       "      <td>0.988029</td>\n",
       "    </tr>\n",
       "    <tr>\n",
       "      <th>973</th>\n",
       "      <td>0.297823</td>\n",
       "      <td>-0.882325</td>\n",
       "      <td>1.383167</td>\n",
       "      <td>-0.206601</td>\n",
       "    </tr>\n",
       "    <tr>\n",
       "      <th>974</th>\n",
       "      <td>-1.826863</td>\n",
       "      <td>0.536952</td>\n",
       "      <td>0.973525</td>\n",
       "      <td>-0.712434</td>\n",
       "    </tr>\n",
       "    <tr>\n",
       "      <th>975</th>\n",
       "      <td>0.174008</td>\n",
       "      <td>-0.621131</td>\n",
       "      <td>2.768485</td>\n",
       "      <td>-0.305996</td>\n",
       "    </tr>\n",
       "    <tr>\n",
       "      <th>976</th>\n",
       "      <td>0.344334</td>\n",
       "      <td>0.491006</td>\n",
       "      <td>0.273321</td>\n",
       "      <td>0.444782</td>\n",
       "    </tr>\n",
       "    <tr>\n",
       "      <th>977</th>\n",
       "      <td>-0.992363</td>\n",
       "      <td>2.052016</td>\n",
       "      <td>0.435316</td>\n",
       "      <td>0.996924</td>\n",
       "    </tr>\n",
       "    <tr>\n",
       "      <th>978</th>\n",
       "      <td>0.020328</td>\n",
       "      <td>0.723835</td>\n",
       "      <td>-0.068388</td>\n",
       "      <td>1.603985</td>\n",
       "    </tr>\n",
       "    <tr>\n",
       "      <th>979</th>\n",
       "      <td>-2.393275</td>\n",
       "      <td>2.392495</td>\n",
       "      <td>0.959997</td>\n",
       "      <td>0.289141</td>\n",
       "    </tr>\n",
       "    <tr>\n",
       "      <th>980</th>\n",
       "      <td>1.164770</td>\n",
       "      <td>0.393279</td>\n",
       "      <td>-0.577416</td>\n",
       "      <td>-0.286159</td>\n",
       "    </tr>\n",
       "    <tr>\n",
       "      <th>981</th>\n",
       "      <td>0.528047</td>\n",
       "      <td>0.888684</td>\n",
       "      <td>1.522012</td>\n",
       "      <td>1.036910</td>\n",
       "    </tr>\n",
       "    <tr>\n",
       "      <th>982</th>\n",
       "      <td>1.069640</td>\n",
       "      <td>0.636857</td>\n",
       "      <td>0.024461</td>\n",
       "      <td>1.587420</td>\n",
       "    </tr>\n",
       "    <tr>\n",
       "      <th>983</th>\n",
       "      <td>-0.409422</td>\n",
       "      <td>-1.035405</td>\n",
       "      <td>0.967428</td>\n",
       "      <td>-0.378646</td>\n",
       "    </tr>\n",
       "    <tr>\n",
       "      <th>984</th>\n",
       "      <td>0.646470</td>\n",
       "      <td>0.681802</td>\n",
       "      <td>0.722343</td>\n",
       "      <td>0.876982</td>\n",
       "    </tr>\n",
       "    <tr>\n",
       "      <th>985</th>\n",
       "      <td>-0.412603</td>\n",
       "      <td>-0.688123</td>\n",
       "      <td>-1.484387</td>\n",
       "      <td>-0.006630</td>\n",
       "    </tr>\n",
       "    <tr>\n",
       "      <th>986</th>\n",
       "      <td>-1.565588</td>\n",
       "      <td>0.240593</td>\n",
       "      <td>0.094739</td>\n",
       "      <td>-0.181981</td>\n",
       "    </tr>\n",
       "    <tr>\n",
       "      <th>987</th>\n",
       "      <td>0.835841</td>\n",
       "      <td>0.790943</td>\n",
       "      <td>0.549027</td>\n",
       "      <td>0.692571</td>\n",
       "    </tr>\n",
       "    <tr>\n",
       "      <th>988</th>\n",
       "      <td>-0.316244</td>\n",
       "      <td>-0.154126</td>\n",
       "      <td>-1.376349</td>\n",
       "      <td>-1.919326</td>\n",
       "    </tr>\n",
       "    <tr>\n",
       "      <th>989</th>\n",
       "      <td>1.054419</td>\n",
       "      <td>0.770931</td>\n",
       "      <td>0.266471</td>\n",
       "      <td>-0.884571</td>\n",
       "    </tr>\n",
       "    <tr>\n",
       "      <th>990</th>\n",
       "      <td>-0.591003</td>\n",
       "      <td>-0.439549</td>\n",
       "      <td>-0.879442</td>\n",
       "      <td>1.937841</td>\n",
       "    </tr>\n",
       "    <tr>\n",
       "      <th>991</th>\n",
       "      <td>1.740999</td>\n",
       "      <td>0.337004</td>\n",
       "      <td>-0.674237</td>\n",
       "      <td>-0.914482</td>\n",
       "    </tr>\n",
       "    <tr>\n",
       "      <th>992</th>\n",
       "      <td>1.464975</td>\n",
       "      <td>-1.184814</td>\n",
       "      <td>-1.928019</td>\n",
       "      <td>0.804324</td>\n",
       "    </tr>\n",
       "    <tr>\n",
       "      <th>993</th>\n",
       "      <td>1.693588</td>\n",
       "      <td>0.044029</td>\n",
       "      <td>-0.381261</td>\n",
       "      <td>-0.828121</td>\n",
       "    </tr>\n",
       "    <tr>\n",
       "      <th>994</th>\n",
       "      <td>-0.744395</td>\n",
       "      <td>-1.162962</td>\n",
       "      <td>-0.480288</td>\n",
       "      <td>-0.011365</td>\n",
       "    </tr>\n",
       "    <tr>\n",
       "      <th>995</th>\n",
       "      <td>-2.090562</td>\n",
       "      <td>0.053480</td>\n",
       "      <td>-0.401948</td>\n",
       "      <td>0.194725</td>\n",
       "    </tr>\n",
       "    <tr>\n",
       "      <th>996</th>\n",
       "      <td>0.584148</td>\n",
       "      <td>1.337418</td>\n",
       "      <td>0.647814</td>\n",
       "      <td>0.748012</td>\n",
       "    </tr>\n",
       "    <tr>\n",
       "      <th>997</th>\n",
       "      <td>-0.584607</td>\n",
       "      <td>0.233883</td>\n",
       "      <td>0.851375</td>\n",
       "      <td>-0.564555</td>\n",
       "    </tr>\n",
       "    <tr>\n",
       "      <th>998</th>\n",
       "      <td>-0.780374</td>\n",
       "      <td>-0.353591</td>\n",
       "      <td>0.740706</td>\n",
       "      <td>-0.624149</td>\n",
       "    </tr>\n",
       "    <tr>\n",
       "      <th>999</th>\n",
       "      <td>-0.643912</td>\n",
       "      <td>-2.226828</td>\n",
       "      <td>-0.887509</td>\n",
       "      <td>-0.002681</td>\n",
       "    </tr>\n",
       "  </tbody>\n",
       "</table>\n",
       "<p>1000 rows × 4 columns</p>\n",
       "</div>"
      ],
      "text/plain": [
       "            0         1         2         3\n",
       "0   -1.381130 -0.356331 -0.098626  1.802365\n",
       "1   -0.652522  1.193359  1.794364  1.631314\n",
       "2   -0.388859 -1.921122 -0.786567  1.030471\n",
       "3   -0.448289 -0.865679  1.107056  1.326829\n",
       "4   -0.615888  0.894664 -1.332875  0.816284\n",
       "5   -0.957505 -0.081830 -0.148197  0.460498\n",
       "6    0.526771  1.271952  1.989603 -0.281142\n",
       "7    0.889165 -1.062190 -1.076028  0.858386\n",
       "8    2.207743 -0.915412  0.971159 -1.420878\n",
       "9   -0.851179 -0.009435 -0.957038 -0.367379\n",
       "10   0.273200  0.675181 -1.144139  1.071028\n",
       "11   0.226193 -0.479349  0.272546  1.238975\n",
       "12  -2.241177  0.444231 -1.352233 -0.008204\n",
       "13  -0.226582  0.432125 -0.804830 -2.256128\n",
       "14  -1.402742 -0.634769  0.207209  0.609138\n",
       "15  -2.113373 -0.368078 -1.522159  0.139253\n",
       "16   0.736907 -1.822749 -0.771801  1.318658\n",
       "17  -0.138619  2.644591  0.569825 -0.020669\n",
       "18   1.018934  0.852774  0.092204 -1.821678\n",
       "19  -1.207915 -2.136577 -1.989444 -2.011891\n",
       "20   0.547142 -0.925198 -1.152869 -1.390651\n",
       "21  -0.525391 -0.414060  0.977270  1.600940\n",
       "22   2.351583 -0.671074  1.705224  1.261737\n",
       "23  -0.143178 -0.685658  0.038118  0.006632\n",
       "24   0.521959 -0.222727  1.131628 -0.037678\n",
       "25  -0.152872 -0.776569  1.362917  0.869339\n",
       "26  -0.415967 -1.046279 -0.188004 -0.065260\n",
       "27  -0.387912  1.002659  1.016895 -0.898151\n",
       "28   2.003808  1.858777  0.662387 -1.496474\n",
       "29   0.918285 -0.288178  0.174248 -0.571770\n",
       "..        ...       ...       ...       ...\n",
       "970 -1.412614 -0.414254 -0.153346 -0.596794\n",
       "971 -1.308029 -1.423388 -1.138759  1.309737\n",
       "972  1.190093 -0.398280 -1.555318  0.988029\n",
       "973  0.297823 -0.882325  1.383167 -0.206601\n",
       "974 -1.826863  0.536952  0.973525 -0.712434\n",
       "975  0.174008 -0.621131  2.768485 -0.305996\n",
       "976  0.344334  0.491006  0.273321  0.444782\n",
       "977 -0.992363  2.052016  0.435316  0.996924\n",
       "978  0.020328  0.723835 -0.068388  1.603985\n",
       "979 -2.393275  2.392495  0.959997  0.289141\n",
       "980  1.164770  0.393279 -0.577416 -0.286159\n",
       "981  0.528047  0.888684  1.522012  1.036910\n",
       "982  1.069640  0.636857  0.024461  1.587420\n",
       "983 -0.409422 -1.035405  0.967428 -0.378646\n",
       "984  0.646470  0.681802  0.722343  0.876982\n",
       "985 -0.412603 -0.688123 -1.484387 -0.006630\n",
       "986 -1.565588  0.240593  0.094739 -0.181981\n",
       "987  0.835841  0.790943  0.549027  0.692571\n",
       "988 -0.316244 -0.154126 -1.376349 -1.919326\n",
       "989  1.054419  0.770931  0.266471 -0.884571\n",
       "990 -0.591003 -0.439549 -0.879442  1.937841\n",
       "991  1.740999  0.337004 -0.674237 -0.914482\n",
       "992  1.464975 -1.184814 -1.928019  0.804324\n",
       "993  1.693588  0.044029 -0.381261 -0.828121\n",
       "994 -0.744395 -1.162962 -0.480288 -0.011365\n",
       "995 -2.090562  0.053480 -0.401948  0.194725\n",
       "996  0.584148  1.337418  0.647814  0.748012\n",
       "997 -0.584607  0.233883  0.851375 -0.564555\n",
       "998 -0.780374 -0.353591  0.740706 -0.624149\n",
       "999 -0.643912 -2.226828 -0.887509 -0.002681\n",
       "\n",
       "[1000 rows x 4 columns]"
      ]
     },
     "execution_count": 51,
     "metadata": {},
     "output_type": "execute_result"
    }
   ],
   "source": [
    "data"
   ]
  },
  {
   "cell_type": "code",
   "execution_count": 52,
   "metadata": {},
   "outputs": [
    {
     "data": {
      "text/html": [
       "<div>\n",
       "<style scoped>\n",
       "    .dataframe tbody tr th:only-of-type {\n",
       "        vertical-align: middle;\n",
       "    }\n",
       "\n",
       "    .dataframe tbody tr th {\n",
       "        vertical-align: top;\n",
       "    }\n",
       "\n",
       "    .dataframe thead th {\n",
       "        text-align: right;\n",
       "    }\n",
       "</style>\n",
       "<table border=\"1\" class=\"dataframe\">\n",
       "  <thead>\n",
       "    <tr style=\"text-align: right;\">\n",
       "      <th></th>\n",
       "      <th>0</th>\n",
       "      <th>1</th>\n",
       "      <th>2</th>\n",
       "      <th>3</th>\n",
       "    </tr>\n",
       "  </thead>\n",
       "  <tbody>\n",
       "    <tr>\n",
       "      <th>count</th>\n",
       "      <td>1000.000000</td>\n",
       "      <td>1000.000000</td>\n",
       "      <td>1000.000000</td>\n",
       "      <td>1000.000000</td>\n",
       "    </tr>\n",
       "    <tr>\n",
       "      <th>mean</th>\n",
       "      <td>0.006453</td>\n",
       "      <td>-0.010014</td>\n",
       "      <td>-0.011992</td>\n",
       "      <td>0.023900</td>\n",
       "    </tr>\n",
       "    <tr>\n",
       "      <th>std</th>\n",
       "      <td>0.995809</td>\n",
       "      <td>0.983670</td>\n",
       "      <td>1.046150</td>\n",
       "      <td>1.027864</td>\n",
       "    </tr>\n",
       "    <tr>\n",
       "      <th>min</th>\n",
       "      <td>-2.979705</td>\n",
       "      <td>-3.426355</td>\n",
       "      <td>-3.165257</td>\n",
       "      <td>-3.533410</td>\n",
       "    </tr>\n",
       "    <tr>\n",
       "      <th>25%</th>\n",
       "      <td>-0.640314</td>\n",
       "      <td>-0.677396</td>\n",
       "      <td>-0.749559</td>\n",
       "      <td>-0.653908</td>\n",
       "    </tr>\n",
       "    <tr>\n",
       "      <th>50%</th>\n",
       "      <td>-0.044659</td>\n",
       "      <td>-0.036874</td>\n",
       "      <td>-0.013994</td>\n",
       "      <td>-0.007835</td>\n",
       "    </tr>\n",
       "    <tr>\n",
       "      <th>75%</th>\n",
       "      <td>0.669652</td>\n",
       "      <td>0.628396</td>\n",
       "      <td>0.735618</td>\n",
       "      <td>0.736387</td>\n",
       "    </tr>\n",
       "    <tr>\n",
       "      <th>max</th>\n",
       "      <td>2.925601</td>\n",
       "      <td>2.853855</td>\n",
       "      <td>3.777203</td>\n",
       "      <td>3.050656</td>\n",
       "    </tr>\n",
       "  </tbody>\n",
       "</table>\n",
       "</div>"
      ],
      "text/plain": [
       "                 0            1            2            3\n",
       "count  1000.000000  1000.000000  1000.000000  1000.000000\n",
       "mean      0.006453    -0.010014    -0.011992     0.023900\n",
       "std       0.995809     0.983670     1.046150     1.027864\n",
       "min      -2.979705    -3.426355    -3.165257    -3.533410\n",
       "25%      -0.640314    -0.677396    -0.749559    -0.653908\n",
       "50%      -0.044659    -0.036874    -0.013994    -0.007835\n",
       "75%       0.669652     0.628396     0.735618     0.736387\n",
       "max       2.925601     2.853855     3.777203     3.050656"
      ]
     },
     "execution_count": 52,
     "metadata": {},
     "output_type": "execute_result"
    }
   ],
   "source": [
    "data.describe()"
   ]
  },
  {
   "cell_type": "code",
   "execution_count": 53,
   "metadata": {},
   "outputs": [
    {
     "data": {
      "text/plain": [
       "164    3.777203\n",
       "237    3.103366\n",
       "473    3.313534\n",
       "620   -3.129202\n",
       "678   -3.165257\n",
       "Name: 2, dtype: float64"
      ]
     },
     "execution_count": 53,
     "metadata": {},
     "output_type": "execute_result"
    }
   ],
   "source": [
    "col = data[2]\n",
    "col[np.abs(col) > 3]"
   ]
  },
  {
   "cell_type": "code",
   "execution_count": 54,
   "metadata": {},
   "outputs": [
    {
     "data": {
      "text/html": [
       "<div>\n",
       "<style scoped>\n",
       "    .dataframe tbody tr th:only-of-type {\n",
       "        vertical-align: middle;\n",
       "    }\n",
       "\n",
       "    .dataframe tbody tr th {\n",
       "        vertical-align: top;\n",
       "    }\n",
       "\n",
       "    .dataframe thead th {\n",
       "        text-align: right;\n",
       "    }\n",
       "</style>\n",
       "<table border=\"1\" class=\"dataframe\">\n",
       "  <thead>\n",
       "    <tr style=\"text-align: right;\">\n",
       "      <th></th>\n",
       "      <th>0</th>\n",
       "      <th>1</th>\n",
       "      <th>2</th>\n",
       "      <th>3</th>\n",
       "    </tr>\n",
       "  </thead>\n",
       "  <tbody>\n",
       "    <tr>\n",
       "      <th>0</th>\n",
       "      <td>0</td>\n",
       "      <td>1</td>\n",
       "      <td>2</td>\n",
       "      <td>3</td>\n",
       "    </tr>\n",
       "    <tr>\n",
       "      <th>1</th>\n",
       "      <td>4</td>\n",
       "      <td>5</td>\n",
       "      <td>6</td>\n",
       "      <td>7</td>\n",
       "    </tr>\n",
       "    <tr>\n",
       "      <th>2</th>\n",
       "      <td>8</td>\n",
       "      <td>9</td>\n",
       "      <td>10</td>\n",
       "      <td>11</td>\n",
       "    </tr>\n",
       "    <tr>\n",
       "      <th>3</th>\n",
       "      <td>12</td>\n",
       "      <td>13</td>\n",
       "      <td>14</td>\n",
       "      <td>15</td>\n",
       "    </tr>\n",
       "    <tr>\n",
       "      <th>4</th>\n",
       "      <td>16</td>\n",
       "      <td>17</td>\n",
       "      <td>18</td>\n",
       "      <td>19</td>\n",
       "    </tr>\n",
       "  </tbody>\n",
       "</table>\n",
       "</div>"
      ],
      "text/plain": [
       "    0   1   2   3\n",
       "0   0   1   2   3\n",
       "1   4   5   6   7\n",
       "2   8   9  10  11\n",
       "3  12  13  14  15\n",
       "4  16  17  18  19"
      ]
     },
     "execution_count": 54,
     "metadata": {},
     "output_type": "execute_result"
    }
   ],
   "source": [
    "df = pd.DataFrame(np.arange(5 * 4).reshape((5, 4)))\n",
    "df"
   ]
  },
  {
   "cell_type": "code",
   "execution_count": 55,
   "metadata": {},
   "outputs": [
    {
     "data": {
      "text/plain": [
       "array([0, 4, 3, 1, 2])"
      ]
     },
     "execution_count": 55,
     "metadata": {},
     "output_type": "execute_result"
    }
   ],
   "source": [
    "sampler = np.random.permutation(5)\n",
    "sampler"
   ]
  },
  {
   "cell_type": "code",
   "execution_count": 56,
   "metadata": {},
   "outputs": [
    {
     "data": {
      "text/html": [
       "<div>\n",
       "<style scoped>\n",
       "    .dataframe tbody tr th:only-of-type {\n",
       "        vertical-align: middle;\n",
       "    }\n",
       "\n",
       "    .dataframe tbody tr th {\n",
       "        vertical-align: top;\n",
       "    }\n",
       "\n",
       "    .dataframe thead th {\n",
       "        text-align: right;\n",
       "    }\n",
       "</style>\n",
       "<table border=\"1\" class=\"dataframe\">\n",
       "  <thead>\n",
       "    <tr style=\"text-align: right;\">\n",
       "      <th></th>\n",
       "      <th>0</th>\n",
       "      <th>1</th>\n",
       "      <th>2</th>\n",
       "      <th>3</th>\n",
       "    </tr>\n",
       "  </thead>\n",
       "  <tbody>\n",
       "    <tr>\n",
       "      <th>0</th>\n",
       "      <td>0</td>\n",
       "      <td>1</td>\n",
       "      <td>2</td>\n",
       "      <td>3</td>\n",
       "    </tr>\n",
       "    <tr>\n",
       "      <th>1</th>\n",
       "      <td>4</td>\n",
       "      <td>5</td>\n",
       "      <td>6</td>\n",
       "      <td>7</td>\n",
       "    </tr>\n",
       "    <tr>\n",
       "      <th>2</th>\n",
       "      <td>8</td>\n",
       "      <td>9</td>\n",
       "      <td>10</td>\n",
       "      <td>11</td>\n",
       "    </tr>\n",
       "    <tr>\n",
       "      <th>3</th>\n",
       "      <td>12</td>\n",
       "      <td>13</td>\n",
       "      <td>14</td>\n",
       "      <td>15</td>\n",
       "    </tr>\n",
       "    <tr>\n",
       "      <th>4</th>\n",
       "      <td>16</td>\n",
       "      <td>17</td>\n",
       "      <td>18</td>\n",
       "      <td>19</td>\n",
       "    </tr>\n",
       "  </tbody>\n",
       "</table>\n",
       "</div>"
      ],
      "text/plain": [
       "    0   1   2   3\n",
       "0   0   1   2   3\n",
       "1   4   5   6   7\n",
       "2   8   9  10  11\n",
       "3  12  13  14  15\n",
       "4  16  17  18  19"
      ]
     },
     "execution_count": 56,
     "metadata": {},
     "output_type": "execute_result"
    }
   ],
   "source": [
    "df"
   ]
  },
  {
   "cell_type": "code",
   "execution_count": 57,
   "metadata": {},
   "outputs": [
    {
     "data": {
      "text/html": [
       "<div>\n",
       "<style scoped>\n",
       "    .dataframe tbody tr th:only-of-type {\n",
       "        vertical-align: middle;\n",
       "    }\n",
       "\n",
       "    .dataframe tbody tr th {\n",
       "        vertical-align: top;\n",
       "    }\n",
       "\n",
       "    .dataframe thead th {\n",
       "        text-align: right;\n",
       "    }\n",
       "</style>\n",
       "<table border=\"1\" class=\"dataframe\">\n",
       "  <thead>\n",
       "    <tr style=\"text-align: right;\">\n",
       "      <th></th>\n",
       "      <th>0</th>\n",
       "      <th>1</th>\n",
       "      <th>2</th>\n",
       "      <th>3</th>\n",
       "    </tr>\n",
       "  </thead>\n",
       "  <tbody>\n",
       "    <tr>\n",
       "      <th>0</th>\n",
       "      <td>0</td>\n",
       "      <td>1</td>\n",
       "      <td>2</td>\n",
       "      <td>3</td>\n",
       "    </tr>\n",
       "    <tr>\n",
       "      <th>4</th>\n",
       "      <td>16</td>\n",
       "      <td>17</td>\n",
       "      <td>18</td>\n",
       "      <td>19</td>\n",
       "    </tr>\n",
       "    <tr>\n",
       "      <th>3</th>\n",
       "      <td>12</td>\n",
       "      <td>13</td>\n",
       "      <td>14</td>\n",
       "      <td>15</td>\n",
       "    </tr>\n",
       "    <tr>\n",
       "      <th>1</th>\n",
       "      <td>4</td>\n",
       "      <td>5</td>\n",
       "      <td>6</td>\n",
       "      <td>7</td>\n",
       "    </tr>\n",
       "    <tr>\n",
       "      <th>2</th>\n",
       "      <td>8</td>\n",
       "      <td>9</td>\n",
       "      <td>10</td>\n",
       "      <td>11</td>\n",
       "    </tr>\n",
       "  </tbody>\n",
       "</table>\n",
       "</div>"
      ],
      "text/plain": [
       "    0   1   2   3\n",
       "0   0   1   2   3\n",
       "4  16  17  18  19\n",
       "3  12  13  14  15\n",
       "1   4   5   6   7\n",
       "2   8   9  10  11"
      ]
     },
     "execution_count": 57,
     "metadata": {},
     "output_type": "execute_result"
    }
   ],
   "source": [
    "df.take(sampler)"
   ]
  },
  {
   "cell_type": "code",
   "execution_count": 58,
   "metadata": {},
   "outputs": [
    {
     "data": {
      "text/html": [
       "<div>\n",
       "<style scoped>\n",
       "    .dataframe tbody tr th:only-of-type {\n",
       "        vertical-align: middle;\n",
       "    }\n",
       "\n",
       "    .dataframe tbody tr th {\n",
       "        vertical-align: top;\n",
       "    }\n",
       "\n",
       "    .dataframe thead th {\n",
       "        text-align: right;\n",
       "    }\n",
       "</style>\n",
       "<table border=\"1\" class=\"dataframe\">\n",
       "  <thead>\n",
       "    <tr style=\"text-align: right;\">\n",
       "      <th></th>\n",
       "      <th>0</th>\n",
       "      <th>1</th>\n",
       "      <th>2</th>\n",
       "      <th>3</th>\n",
       "    </tr>\n",
       "  </thead>\n",
       "  <tbody>\n",
       "    <tr>\n",
       "      <th>1</th>\n",
       "      <td>4</td>\n",
       "      <td>5</td>\n",
       "      <td>6</td>\n",
       "      <td>7</td>\n",
       "    </tr>\n",
       "    <tr>\n",
       "      <th>2</th>\n",
       "      <td>8</td>\n",
       "      <td>9</td>\n",
       "      <td>10</td>\n",
       "      <td>11</td>\n",
       "    </tr>\n",
       "    <tr>\n",
       "      <th>0</th>\n",
       "      <td>0</td>\n",
       "      <td>1</td>\n",
       "      <td>2</td>\n",
       "      <td>3</td>\n",
       "    </tr>\n",
       "  </tbody>\n",
       "</table>\n",
       "</div>"
      ],
      "text/plain": [
       "   0  1   2   3\n",
       "1  4  5   6   7\n",
       "2  8  9  10  11\n",
       "0  0  1   2   3"
      ]
     },
     "execution_count": 58,
     "metadata": {},
     "output_type": "execute_result"
    }
   ],
   "source": [
    "df.sample(n=3)"
   ]
  },
  {
   "cell_type": "code",
   "execution_count": 59,
   "metadata": {},
   "outputs": [],
   "source": [
    "choices = pd.Series([5, 7, -1, 6, 4])"
   ]
  },
  {
   "cell_type": "code",
   "execution_count": 60,
   "metadata": {},
   "outputs": [
    {
     "data": {
      "text/plain": [
       "0    5\n",
       "1    7\n",
       "2   -1\n",
       "3    6\n",
       "4    4\n",
       "dtype: int64"
      ]
     },
     "execution_count": 60,
     "metadata": {},
     "output_type": "execute_result"
    }
   ],
   "source": [
    "choices"
   ]
  },
  {
   "cell_type": "code",
   "execution_count": 61,
   "metadata": {},
   "outputs": [
    {
     "data": {
      "text/plain": [
       "0    5\n",
       "4    4\n",
       "1    7\n",
       "4    4\n",
       "3    6\n",
       "0    5\n",
       "2   -1\n",
       "3    6\n",
       "3    6\n",
       "3    6\n",
       "dtype: int64"
      ]
     },
     "execution_count": 61,
     "metadata": {},
     "output_type": "execute_result"
    }
   ],
   "source": [
    "draws = choices.sample(n=10, replace=True)\n",
    "draws"
   ]
  },
  {
   "cell_type": "code",
   "execution_count": 62,
   "metadata": {},
   "outputs": [
    {
     "data": {
      "text/html": [
       "<div>\n",
       "<style scoped>\n",
       "    .dataframe tbody tr th:only-of-type {\n",
       "        vertical-align: middle;\n",
       "    }\n",
       "\n",
       "    .dataframe tbody tr th {\n",
       "        vertical-align: top;\n",
       "    }\n",
       "\n",
       "    .dataframe thead th {\n",
       "        text-align: right;\n",
       "    }\n",
       "</style>\n",
       "<table border=\"1\" class=\"dataframe\">\n",
       "  <thead>\n",
       "    <tr style=\"text-align: right;\">\n",
       "      <th></th>\n",
       "      <th>key</th>\n",
       "      <th>data1</th>\n",
       "    </tr>\n",
       "  </thead>\n",
       "  <tbody>\n",
       "    <tr>\n",
       "      <th>0</th>\n",
       "      <td>b</td>\n",
       "      <td>0</td>\n",
       "    </tr>\n",
       "    <tr>\n",
       "      <th>1</th>\n",
       "      <td>b</td>\n",
       "      <td>1</td>\n",
       "    </tr>\n",
       "    <tr>\n",
       "      <th>2</th>\n",
       "      <td>a</td>\n",
       "      <td>2</td>\n",
       "    </tr>\n",
       "    <tr>\n",
       "      <th>3</th>\n",
       "      <td>c</td>\n",
       "      <td>3</td>\n",
       "    </tr>\n",
       "    <tr>\n",
       "      <th>4</th>\n",
       "      <td>a</td>\n",
       "      <td>4</td>\n",
       "    </tr>\n",
       "    <tr>\n",
       "      <th>5</th>\n",
       "      <td>b</td>\n",
       "      <td>5</td>\n",
       "    </tr>\n",
       "  </tbody>\n",
       "</table>\n",
       "</div>"
      ],
      "text/plain": [
       "  key  data1\n",
       "0   b      0\n",
       "1   b      1\n",
       "2   a      2\n",
       "3   c      3\n",
       "4   a      4\n",
       "5   b      5"
      ]
     },
     "execution_count": 62,
     "metadata": {},
     "output_type": "execute_result"
    }
   ],
   "source": [
    "df = pd.DataFrame({'key': ['b', 'b', 'a', 'c', 'a', 'b'],\n",
    "                       'data1': range(6)})\n",
    "df"
   ]
  },
  {
   "cell_type": "code",
   "execution_count": 64,
   "metadata": {},
   "outputs": [
    {
     "data": {
      "text/html": [
       "<div>\n",
       "<style scoped>\n",
       "    .dataframe tbody tr th:only-of-type {\n",
       "        vertical-align: middle;\n",
       "    }\n",
       "\n",
       "    .dataframe tbody tr th {\n",
       "        vertical-align: top;\n",
       "    }\n",
       "\n",
       "    .dataframe thead th {\n",
       "        text-align: right;\n",
       "    }\n",
       "</style>\n",
       "<table border=\"1\" class=\"dataframe\">\n",
       "  <thead>\n",
       "    <tr style=\"text-align: right;\">\n",
       "      <th></th>\n",
       "      <th>key_a</th>\n",
       "      <th>key_b</th>\n",
       "      <th>key_c</th>\n",
       "    </tr>\n",
       "  </thead>\n",
       "  <tbody>\n",
       "    <tr>\n",
       "      <th>0</th>\n",
       "      <td>0</td>\n",
       "      <td>1</td>\n",
       "      <td>0</td>\n",
       "    </tr>\n",
       "    <tr>\n",
       "      <th>1</th>\n",
       "      <td>0</td>\n",
       "      <td>1</td>\n",
       "      <td>0</td>\n",
       "    </tr>\n",
       "    <tr>\n",
       "      <th>2</th>\n",
       "      <td>1</td>\n",
       "      <td>0</td>\n",
       "      <td>0</td>\n",
       "    </tr>\n",
       "    <tr>\n",
       "      <th>3</th>\n",
       "      <td>0</td>\n",
       "      <td>0</td>\n",
       "      <td>1</td>\n",
       "    </tr>\n",
       "    <tr>\n",
       "      <th>4</th>\n",
       "      <td>1</td>\n",
       "      <td>0</td>\n",
       "      <td>0</td>\n",
       "    </tr>\n",
       "    <tr>\n",
       "      <th>5</th>\n",
       "      <td>0</td>\n",
       "      <td>1</td>\n",
       "      <td>0</td>\n",
       "    </tr>\n",
       "  </tbody>\n",
       "</table>\n",
       "</div>"
      ],
      "text/plain": [
       "   key_a  key_b  key_c\n",
       "0      0      1      0\n",
       "1      0      1      0\n",
       "2      1      0      0\n",
       "3      0      0      1\n",
       "4      1      0      0\n",
       "5      0      1      0"
      ]
     },
     "execution_count": 64,
     "metadata": {},
     "output_type": "execute_result"
    }
   ],
   "source": [
    "dummies = pd.get_dummies(df['key'], prefix='key')\n",
    "dummies"
   ]
  },
  {
   "cell_type": "code",
   "execution_count": 65,
   "metadata": {},
   "outputs": [],
   "source": [
    "df_with_dummpy = df[['data1']].join(dummies)"
   ]
  },
  {
   "cell_type": "code",
   "execution_count": 66,
   "metadata": {},
   "outputs": [
    {
     "data": {
      "text/html": [
       "<div>\n",
       "<style scoped>\n",
       "    .dataframe tbody tr th:only-of-type {\n",
       "        vertical-align: middle;\n",
       "    }\n",
       "\n",
       "    .dataframe tbody tr th {\n",
       "        vertical-align: top;\n",
       "    }\n",
       "\n",
       "    .dataframe thead th {\n",
       "        text-align: right;\n",
       "    }\n",
       "</style>\n",
       "<table border=\"1\" class=\"dataframe\">\n",
       "  <thead>\n",
       "    <tr style=\"text-align: right;\">\n",
       "      <th></th>\n",
       "      <th>data1</th>\n",
       "      <th>key_a</th>\n",
       "      <th>key_b</th>\n",
       "      <th>key_c</th>\n",
       "    </tr>\n",
       "  </thead>\n",
       "  <tbody>\n",
       "    <tr>\n",
       "      <th>0</th>\n",
       "      <td>0</td>\n",
       "      <td>0</td>\n",
       "      <td>1</td>\n",
       "      <td>0</td>\n",
       "    </tr>\n",
       "    <tr>\n",
       "      <th>1</th>\n",
       "      <td>1</td>\n",
       "      <td>0</td>\n",
       "      <td>1</td>\n",
       "      <td>0</td>\n",
       "    </tr>\n",
       "    <tr>\n",
       "      <th>2</th>\n",
       "      <td>2</td>\n",
       "      <td>1</td>\n",
       "      <td>0</td>\n",
       "      <td>0</td>\n",
       "    </tr>\n",
       "    <tr>\n",
       "      <th>3</th>\n",
       "      <td>3</td>\n",
       "      <td>0</td>\n",
       "      <td>0</td>\n",
       "      <td>1</td>\n",
       "    </tr>\n",
       "    <tr>\n",
       "      <th>4</th>\n",
       "      <td>4</td>\n",
       "      <td>1</td>\n",
       "      <td>0</td>\n",
       "      <td>0</td>\n",
       "    </tr>\n",
       "    <tr>\n",
       "      <th>5</th>\n",
       "      <td>5</td>\n",
       "      <td>0</td>\n",
       "      <td>1</td>\n",
       "      <td>0</td>\n",
       "    </tr>\n",
       "  </tbody>\n",
       "</table>\n",
       "</div>"
      ],
      "text/plain": [
       "   data1  key_a  key_b  key_c\n",
       "0      0      0      1      0\n",
       "1      1      0      1      0\n",
       "2      2      1      0      0\n",
       "3      3      0      0      1\n",
       "4      4      1      0      0\n",
       "5      5      0      1      0"
      ]
     },
     "execution_count": 66,
     "metadata": {},
     "output_type": "execute_result"
    }
   ],
   "source": [
    "df_with_dummpy"
   ]
  },
  {
   "cell_type": "code",
   "execution_count": null,
   "metadata": {},
   "outputs": [],
   "source": []
  }
 ],
 "metadata": {
  "kernelspec": {
   "display_name": "Python 3",
   "language": "python",
   "name": "python3"
  },
  "language_info": {
   "codemirror_mode": {
    "name": "ipython",
    "version": 3
   },
   "file_extension": ".py",
   "mimetype": "text/x-python",
   "name": "python",
   "nbconvert_exporter": "python",
   "pygments_lexer": "ipython3",
   "version": "3.6.6"
  }
 },
 "nbformat": 4,
 "nbformat_minor": 2
}
